{
 "cells": [
  {
   "cell_type": "code",
   "execution_count": null,
   "id": "298a15fc",
   "metadata": {},
   "outputs": [],
   "source": [
    "from ERH.elements.Tren import TrenEngrane\n",
    "from ERH.elements.PER import ParEngranesResistencia as PER\n",
    "from ERH.elements.flux import run_par_pipeline"
   ]
  },
  {
   "cell_type": "code",
   "execution_count": 2,
   "id": "ded3747c",
   "metadata": {},
   "outputs": [],
   "source": [
    "m = 1\n",
    "\n",
    "geo0_params = {\n",
    "    \"pi_n\": None, \"m\": m, \"phi_n\": 20, \"psi\": 0,\n",
    "    \"N_pinion\": 34, \"N_engrane\": 100,\n",
    "    \"F_pinion\": 10*m, \"F_engrane\": 10*m,\n",
    "    \"sistema_dientes\": \"total\", \"acople\": \"externos\",\n",
    "    \"xp\": 0.0,\n",
    "}\n",
    "\n",
    "geo1_params = {\n",
    "    \"pi_n\": None, \"m\": m, \"phi_n\": 20, \"psi\": 0,\n",
    "    \"N_pinion\": 34, \"N_engrane\": 100,\n",
    "    \"F_pinion\": 10*m, \"F_engrane\": 10*m,\n",
    "    \"sistema_dientes\": \"total\", \"acople\": \"externos\",\n",
    "    \"xp\": 0.0,\n",
    "}\n",
    "\n",
    "geo2_params = {\n",
    "    \"pi_n\": None, \"m\": m, \"phi_n\": 20, \"psi\": 0,\n",
    "    \"N_pinion\": 34, \"N_engrane\": 100,\n",
    "    \"F_pinion\": 10*m, \"F_engrane\": 10*m,\n",
    "    \"sistema_dientes\": \"total\", \"acople\": \"externos\",\n",
    "    \"xp\": 0.0,\n",
    "}\n"
   ]
  },
  {
   "cell_type": "code",
   "execution_count": null,
   "id": "e7e53810",
   "metadata": {},
   "outputs": [],
   "source": [
    "\"\"\"geometria','transmision','esfuerzos','resistencia\"\"\"\n",
    "Tren = TrenEngrane()\n",
    "\n",
    "ParEngranes0=PER()\n",
    "ParEngranes1=PER()\n",
    "ParEngranes2=PER()\n",
    "\n",
    "ParEngranes = [ParEngranes0,ParEngranes1, ParEngranes2]\n",
    "\n",
    "run_par_pipeline(ParEngranes0, geo0_params,until=\"g\")\n",
    "run_par_pipeline(ParEngranes1, geo1_params,until= \"g\")\n",
    "run_par_pipeline(ParEngranes2, geo2_params,until= \"g\")"
   ]
  },
  {
   "cell_type": "code",
   "execution_count": null,
   "id": "158aee62",
   "metadata": {},
   "outputs": [],
   "source": [
    "trans_params = {\n",
    "    \"start_id\": 0, \"where\": \"pinion\",\n",
    "    \"H\": 110, \"H_units\": \"si\",\n",
    "    \"Omega\": 1000, \"Omega_units\": \"rpm\",\n",
    "    \"T\": None, \"T_units\": \"si\",\n",
    "}"
   ]
  },
  {
   "cell_type": "code",
   "execution_count": null,
   "id": "f157fcc2",
   "metadata": {},
   "outputs": [],
   "source": [
    "for par in ParEngranes:\n",
    "    Tren.add_pair(par)\n",
    "\n",
    "Tren.connect(0,1,\"engrane\",\"pinion\")\n",
    "Tren.connect(1,2,\"engrane\", \"pinion\")\n",
    "Tren.solve_transmision(**trans_params)\n",
    "Tren.resumen_transmision()"
   ]
  },
  {
   "cell_type": "code",
   "execution_count": null,
   "id": "788c385f",
   "metadata": {},
   "outputs": [],
   "source": [
    "# Constantes generales\n",
    "C_F = 1     # PAG 31: factor de acabado superficial\n",
    "K_A = 1     # PAG 32 TABLA 17: factor de aplicación\n",
    "K_B = 1     # PAG 32 TABLA 17: factor de tamaño\n",
    "K_M = 1     # PAG 32 TABLA 18: factor de montaje\n",
    "K_S = 1     # PAG 33 TABLA 20: factor de temperatura/esfuerzo\n",
    "Q_v = 10    # calidad del engrane\n",
    "C_p = 191   # coeficiente de elasticidad [√MPa]\n",
    "I   = None  # índice de geometría de contacto (se calcula)\n",
    "\n",
    "tension_params0 = {\n",
    "    \"K_A\": K_A, \"K_M\": K_M, \"K_S\": K_S, \"K_B\": K_B, \"K_V\": None,\n",
    "    \"K_I_pin\": 1.00, \"K_I_eng\": 1.00,                             \n",
    "    \"Jp_pin\": 0.42, \"Jmod_pin\": 1, \"Jp_eng\": 0.44, \"Jmod_eng\": 1, # PAG 35 GRAFICO 27 PARA RECTO 28 HELI / # 1 SI ES RECTO PAG 36 GRAFICO 29 \n",
    "    \"C_p\": C_p, \"C_F\": C_F, \"Q_v\": Q_v,\n",
    "    \"I\": I, \"Jp\": None, \"Jg\": None,\n",
    "}\n",
    "\n",
    "tension_params1 = {\n",
    "    \"K_A\": K_A, \"K_M\": K_M, \"K_S\": K_S, \"K_B\": K_B, \"K_V\": None,\n",
    "    \"K_I_pin\": 1.00, \"K_I_eng\": 1.00,\n",
    "    \"Jp_pin\": 0.42, \"Jmod_pin\": 1, \"Jp_eng\": 0.44, \"Jmod_eng\": 1, # PAG 35 GRAFICO 27 PARA RECTO 28 HELI / # 1 SI ES RECTO PAG 36 GRAFICO 29 \n",
    "    \"C_p\": C_p, \"C_F\": C_F, \"Q_v\": Q_v,\n",
    "    \"I\": I, \"Jp\": None, \"Jg\": None,\n",
    "}\n",
    "\n",
    "tension_params2 = {\n",
    "    \"K_A\": K_A, \"K_M\": K_M, \"K_S\": K_S, \"K_B\": K_B, \"K_V\": None,\n",
    "    \"K_I_pin\": 1.00, \"K_I_eng\": 1.00,                              \n",
    "    \"Jp_pin\": 0.42, \"Jmod_pin\": 1, \"Jp_eng\": 0.46, \"Jmod_eng\": 1, # PAG 35 GRAFICO 27 PARA RECTO 28 HELI / # 1 SI ES RECTO PAG 36 GRAFICO 29                                                   \n",
    "    \"C_p\": C_p, \"C_F\": C_F, \"Q_v\": Q_v,\n",
    "    \"I\": I, \"Jp\": None, \"Jg\": None,\n",
    "}\n"
   ]
  },
  {
   "cell_type": "code",
   "execution_count": null,
   "id": "1357ec6c",
   "metadata": {},
   "outputs": [],
   "source": [
    "Temp, R = 20, 0.99\n",
    "\n",
    "resistance_params0 = {\n",
    "    \"K_L_p\": 1, \"C_L_p\": 1, \"HB_p\": 300,   # Piñón → PAG 27 D.6, TABLA 10, PAG 30 Tabla 12\n",
    "    \"K_L_g\": 1, \"C_L_g\": 1, \"HB_g\": 300,   # Engrane → PAG 27 D.6, TABLA 10, PAG 30 Tabla 12\n",
    "    \"temperatura\": Temp, \"R\": R,           # Temp (°C) / Confiabilidad objetivo (0–1)\n",
    "    \"caso_engrane\": \"masa\", \"Rq\": 0.8,     # Caso (masa/superficie) / Rugosidad media (µm)\n",
    "    \"pSF_g\": 324, \"pSFC_g\": 942,           # Engrane permisible → flexión/contacto (PAG 29–30)\n",
    "    \"pSF_p\": 324, \"pSFC_p\": 942,           # Piñón permisible → flexión/contacto (PAG 29–30)\n",
    "    \"K_T\": None, \"K_R\": None,              # Factor temperatura / confiabilidad (si aplica)\n",
    "    \"C_H_p\": None, \"C_H_g\": None,          # Factor dureza (piñón/engranaje) (opcional, si se conoce)\n",
    "}\n",
    "\n",
    "resistance_params1 = {\n",
    "    \"K_L_p\": 1, \"C_L_p\": 1, \"HB_p\": 300,   # Piñón → PAG 27 D.6, TABLA 10, PAG 30 Tabla 12\n",
    "    \"K_L_g\": 1, \"C_L_g\": 1, \"HB_g\": 300,   # Engrane → PAG 27 D.6, TABLA 10, PAG 30 Tabla 12\n",
    "    \"temperatura\": Temp, \"R\": R,\n",
    "    \"caso_engrane\": \"masa\", \"Rq\": 0.8,\n",
    "    \"pSF_g\": 324, \"pSFC_g\": 942, \"pSF_p\": 324, \"pSFC_p\": 942,\n",
    "    \"K_T\": None, \"K_R\": None,\n",
    "    \"C_H_p\": None, \"C_H_g\": None,\n",
    "}\n",
    "\n",
    "resistance_params2 = {\n",
    "    \"K_L_p\": 1, \"C_L_p\": 1, \"HB_p\": 300,   # Piñón → PAG 27 D.6, TABLA 10, PAG 30 Tabla 12\n",
    "    \"K_L_g\": 1, \"C_L_g\": 1, \"HB_g\": 300,   # Engrane → PAG 27 D.6, TABLA 10, PAG 30 Tabla 12\n",
    "    \"temperatura\": Temp, \"R\": R,\n",
    "    \"caso_engrane\": \"masa\", \"Rq\": 0.8,\n",
    "    \"pSF_g\": 324, \"pSFC_g\": 942, \"pSF_p\": 324, \"pSFC_p\": 942,   # Permisibles (flexión/contacto)\n",
    "    \"K_T\": None, \"K_R\": None,\n",
    "    \"C_H_p\": None, \"C_H_g\": None,\n",
    "}\n"
   ]
  },
  {
   "cell_type": "code",
   "execution_count": null,
   "id": "aee53665",
   "metadata": {},
   "outputs": [],
   "source": [
    "for par in ParEngranes:\n",
    "    par.print_ciclos(24,365,10)\n",
    "\n",
    "run_par_pipeline(ParEngranes0, geo0_params, tension_params0, resistance_params0, \"r\")\n",
    "run_par_pipeline(ParEngranes1, geo1_params, tension_params1, resistance_params1, \"r\")\n",
    "run_par_pipeline(ParEngranes2, geo2_params, tension_params2, resistance_params2, \"r\")\n"
   ]
  }
 ],
 "metadata": {
  "kernelspec": {
   "display_name": "Python 3",
   "language": "python",
   "name": "python3"
  },
  "language_info": {
   "codemirror_mode": {
    "name": "ipython",
    "version": 3
   },
   "file_extension": ".py",
   "mimetype": "text/x-python",
   "name": "python",
   "nbconvert_exporter": "python",
   "pygments_lexer": "ipython3",
   "version": "3.13.3"
  }
 },
 "nbformat": 4,
 "nbformat_minor": 5
}
