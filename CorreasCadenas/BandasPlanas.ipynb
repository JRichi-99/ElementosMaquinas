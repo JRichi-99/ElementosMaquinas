{
 "cells": [
  {
   "cell_type": "code",
   "execution_count": 1,
   "id": "c4cbf2f1",
   "metadata": {},
   "outputs": [],
   "source": [
    "import Backend.BandasPlanas as BP\n",
    "import pint"
   ]
  },
  {
   "cell_type": "code",
   "execution_count": null,
   "id": "aae7f3a9",
   "metadata": {},
   "outputs": [],
   "source": [
    "def calc_posible_diameters(C, mg, step=0.5):\n",
    "    d_min = C / (mg + 1) / 3\n",
    "    d_max = C / mg\n",
    "    diametros = []\n",
    "\n",
    "    d = d_min\n",
    "    while d <= d_max:\n",
    "        D = mg * d\n",
    "        diametros.append((round(d, 4), round(D, 4)))\n",
    "        d += step\n",
    "\n",
    "    return diametros\n",
    "\n",
    "def look_factible(C, mg, modo=0):\n",
    "    diametros = calc_posible_diameters(C, mg)\n",
    "    factible = []\n",
    "\n",
    "    for d, D in diametros:\n",
    "        if modo == 0:\n",
    "            ok = BP.verificar_diseño_no_inversora(\n",
    "                D=D, d=d, a=C, lp=None,\n",
    "                h_nom=15, k_serv=1.25, n_seg=1.1,\n",
    "                t=0.13, f=0.8, gamma=0.042, b=6,\n",
    "                wd=1750, t1_adm=100\n",
    "            )\n",
    "        elif modo == 1:\n",
    "            ok = BP.verificar_diseño_inversora(\n",
    "                D=D, d=d, a=C,\n",
    "                h_nom=15, k_serv=1.25, n_seg=1.1,\n",
    "                t=0.13, f=0.8, gamma=0.042, b=6,\n",
    "                wd=1750, t1_adm=100\n",
    "            )\n",
    "        else:\n",
    "            raise ValueError(\"modo debe ser 0 (no inversora) o 1 (inversora).\")\n",
    "\n",
    "        if ok:\n",
    "            factible.append((d, D))\n",
    "            print(f\"Se encontró ninguna combinación factible con d = {d} | D = {D}.\")\n",
    "\n",
    "    return factible"
   ]
  },
  {
   "cell_type": "code",
   "execution_count": null,
   "id": "7bd841db",
   "metadata": {},
   "outputs": [],
   "source": [
    "look_factible(C=96, mg=3)"
   ]
  },
  {
   "cell_type": "code",
   "execution_count": 4,
   "id": "5641aa5b",
   "metadata": {},
   "outputs": [
    {
     "name": "stdout",
     "output_type": "stream",
     "text": [
      "Archivo generado: verificar_diseno_no_inversora.txt\n",
      "CUMPLE\n"
     ]
    },
    {
     "data": {
      "text/plain": [
       "np.True_"
      ]
     },
     "execution_count": 4,
     "metadata": {},
     "output_type": "execute_result"
    }
   ],
   "source": [
    "BP.verificar_diseño_no_inversora(D=18, d=6, a=96, \n",
    "                             h_nom=15, k_serv=1.25, n_seg=1.1, \n",
    "                             t=0.13, f=0.8, gamma=0.042,b=6,\n",
    "                             wd=1750, t1_adm=100, write=True)"
   ]
  },
  {
   "cell_type": "code",
   "execution_count": null,
   "id": "599d67b1",
   "metadata": {},
   "outputs": [],
   "source": [
    "BP.verificar_diseño_inversora(D=18, d=6, a=96, \n",
    "                             h_nom=15, k_serv=1.25, n_seg=1.1, \n",
    "                             t=0.13, f=0.8, gamma=0.042,b=6,\n",
    "                             wd=1750, t1_adm=100)"
   ]
  },
  {
   "cell_type": "code",
   "execution_count": null,
   "id": "dd7b2cc0",
   "metadata": {},
   "outputs": [],
   "source": []
  },
  {
   "cell_type": "code",
   "execution_count": null,
   "id": "9eaad13f",
   "metadata": {},
   "outputs": [],
   "source": []
  }
 ],
 "metadata": {
  "kernelspec": {
   "display_name": "Python 3",
   "language": "python",
   "name": "python3"
  },
  "language_info": {
   "codemirror_mode": {
    "name": "ipython",
    "version": 3
   },
   "file_extension": ".py",
   "mimetype": "text/x-python",
   "name": "python",
   "nbconvert_exporter": "python",
   "pygments_lexer": "ipython3",
   "version": "3.13.3"
  }
 },
 "nbformat": 4,
 "nbformat_minor": 5
}
