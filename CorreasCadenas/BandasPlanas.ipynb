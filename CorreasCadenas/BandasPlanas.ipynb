{
 "cells": [
  {
   "cell_type": "code",
   "execution_count": 1,
   "id": "c4cbf2f1",
   "metadata": {},
   "outputs": [],
   "source": [
    "import Backend.BandasPlanas as BP\n",
    "import Backend.BandasV as BV\n",
    "import pint"
   ]
  },
  {
   "cell_type": "code",
   "execution_count": 3,
   "id": "aae7f3a9",
   "metadata": {},
   "outputs": [],
   "source": [
    "def calc_posible_diameters(C, mg, step=0.5):\n",
    "    d_min = C / (mg + 1) / 3\n",
    "    d_max = C / mg\n",
    "    diametros = []\n",
    "\n",
    "    d = d_min\n",
    "    while d <= d_max:\n",
    "        D = mg * d\n",
    "        diametros.append((round(d, 4), round(D, 4)))\n",
    "        d += step\n",
    "\n",
    "    return diametros\n",
    "\n",
    "def look_factible(\n",
    "    C, mg, modo=0,\n",
    "    h_nom=15, k_serv=1.25, n_seg=1.1,\n",
    "    t=0.13, f=0.8, gamma=0.042, b=6,\n",
    "    wd=1750, t1_adm=100\n",
    "):\n",
    "    diametros = calc_posible_diameters(C, mg)\n",
    "    factible = []\n",
    "\n",
    "    for d, D in diametros:\n",
    "        if modo == 0:\n",
    "            ok = BP.verificar_diseño_no_inversora(\n",
    "                D=D, d=d, a=C, lp=None,\n",
    "                h_nom=h_nom, k_serv=k_serv, n_seg=n_seg,\n",
    "                t=t, f=f, gamma=gamma, b=b,\n",
    "                wd=wd, t1_adm=t1_adm\n",
    "            )\n",
    "        elif modo == 1:\n",
    "            ok = BP.verificar_diseño_inversora(\n",
    "                D=D, d=d, a=C,\n",
    "                h_nom=h_nom, k_serv=k_serv, n_seg=n_seg,\n",
    "                t=t, f=f, gamma=gamma, b=b,\n",
    "                wd=wd, t1_adm=t1_adm\n",
    "            )\n",
    "        else:\n",
    "            raise ValueError(\"modo debe ser 0 (no inversora) o 1 (inversora).\")\n",
    "\n",
    "        if ok:\n",
    "            factible.append((d, D))\n",
    "            print(f\"Se encontró combinación factible con d = {d} | D = {D}.\")\n",
    "\n",
    "    return factible"
   ]
  },
  {
   "cell_type": "code",
   "execution_count": null,
   "id": "7bd841db",
   "metadata": {},
   "outputs": [
    {
     "ename": "NameError",
     "evalue": "name 'C' is not defined",
     "output_type": "error",
     "traceback": [
      "\u001b[31m---------------------------------------------------------------------------\u001b[39m",
      "\u001b[31mNameError\u001b[39m                                 Traceback (most recent call last)",
      "\u001b[36mCell\u001b[39m\u001b[36m \u001b[39m\u001b[32mIn[4]\u001b[39m\u001b[32m, line 1\u001b[39m\n\u001b[32m----> \u001b[39m\u001b[32m1\u001b[39m look_factible(\u001b[43mC\u001b[49m, mg, modo=\u001b[32m0\u001b[39m,\n\u001b[32m      2\u001b[39m     h_nom=\u001b[32m15\u001b[39m, k_serv=\u001b[32m1.25\u001b[39m, n_seg=\u001b[32m1.1\u001b[39m,\n\u001b[32m      3\u001b[39m     t=\u001b[32m0.13\u001b[39m, f=\u001b[32m0.8\u001b[39m, gamma=\u001b[32m0.042\u001b[39m, b=\u001b[32m6\u001b[39m,\n\u001b[32m      4\u001b[39m     wd=\u001b[32m1750\u001b[39m, t1_adm=\u001b[32m100\u001b[39m)\n",
      "\u001b[31mNameError\u001b[39m: name 'C' is not defined"
     ]
    }
   ],
   "source": [
    "look_factible(\n",
    "    C=96,\n",
    "    mg=3,\n",
    "    modo=0,\n",
    "    h_nom=15,\n",
    "    k_serv=1.25,\n",
    "    n_seg=1.1,\n",
    "    t=0.13,\n",
    "    f=0.8,\n",
    "    gamma=0.042,\n",
    "    b=6,\n",
    "    wd=1750,\n",
    "    t1_adm=100\n",
    ")"
   ]
  },
  {
   "cell_type": "code",
   "execution_count": 4,
   "id": "5641aa5b",
   "metadata": {},
   "outputs": [
    {
     "name": "stdout",
     "output_type": "stream",
     "text": [
      "Archivo generado: verificar_diseno_no_inversora.txt\n",
      "CUMPLE\n"
     ]
    },
    {
     "data": {
      "text/plain": [
       "np.True_"
      ]
     },
     "execution_count": 4,
     "metadata": {},
     "output_type": "execute_result"
    }
   ],
   "source": [
    "BP.verificar_diseño_no_inversora(D=18, d=6, a=96, \n",
    "                             h_nom=15, k_serv=1.25, n_seg=1.1, \n",
    "                             t=0.13, f=0.8, gamma=0.042,b=6,\n",
    "                             wd=1750, t1_adm=100, write=True)"
   ]
  },
  {
   "cell_type": "code",
   "execution_count": null,
   "id": "599d67b1",
   "metadata": {},
   "outputs": [],
   "source": [
    "BP.verificar_diseño_inversora(D=18, d=6, a=96, \n",
    "                             h_nom=15, k_serv=1.25, n_seg=1.1, \n",
    "                             t=0.13, f=0.8, gamma=0.042,b=6,\n",
    "                             wd=1750, t1_adm=100)"
   ]
  },
  {
   "cell_type": "code",
   "execution_count": null,
   "id": "dd7b2cc0",
   "metadata": {},
   "outputs": [],
   "source": []
  },
  {
   "cell_type": "code",
   "execution_count": null,
   "id": "9eaad13f",
   "metadata": {},
   "outputs": [],
   "source": []
  }
 ],
 "metadata": {
  "kernelspec": {
   "display_name": "Python 3",
   "language": "python",
   "name": "python3"
  },
  "language_info": {
   "codemirror_mode": {
    "name": "ipython",
    "version": 3
   },
   "file_extension": ".py",
   "mimetype": "text/x-python",
   "name": "python",
   "nbconvert_exporter": "python",
   "pygments_lexer": "ipython3",
   "version": "3.13.3"
  }
 },
 "nbformat": 4,
 "nbformat_minor": 5
}
