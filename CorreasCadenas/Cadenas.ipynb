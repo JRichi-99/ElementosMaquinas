{
 "cells": [
  {
   "cell_type": "code",
   "execution_count": 2,
   "id": "1b473f7e",
   "metadata": {},
   "outputs": [],
   "source": [
    "import Backend.Cadenas as C"
   ]
  },
  {
   "cell_type": "code",
   "execution_count": null,
   "id": "6ae01289",
   "metadata": {},
   "outputs": [],
   "source": [
    "n_ansi = [25, 35, 41, 40, 50, 60, 80, 100, 120, 140, 160, 180, 200, 240]\n",
    "\n",
    "\n",
    "\n",
    "res_base = C.filtrar_resistencia(\n",
    "    lubricaciones_posibles=[\"A\", \"B\", \"C\"],\n",
    "    n_ansi=[100],\n",
    "    n_torones=[2],\n",
    "    mg=3,\n",
    "    wd=100,\n",
    "    ks=1.1,\n",
    "    h_nom=10,\n",
    "    n_seg=1.5\n",
    ")\n",
    "\n",
    "res_con_longitud_entera = C.filtrar_por_longitud_entera(\n",
    "    filtrado_resistencia=res_base,\n",
    "    C_p=None,\n",
    "    C=45,\n",
    "    tol=0.02\n",
    ")\n",
    "\n",
    "print(res_con_longitud_entera[\"B\"][0])"
   ]
  }
 ],
 "metadata": {
  "kernelspec": {
   "display_name": "Python 3",
   "language": "python",
   "name": "python3"
  },
  "language_info": {
   "codemirror_mode": {
    "name": "ipython",
    "version": 3
   },
   "file_extension": ".py",
   "mimetype": "text/x-python",
   "name": "python",
   "nbconvert_exporter": "python",
   "pygments_lexer": "ipython3",
   "version": "3.13.3"
  }
 },
 "nbformat": 4,
 "nbformat_minor": 5
}
