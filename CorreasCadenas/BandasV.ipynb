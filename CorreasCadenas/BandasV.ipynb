{
 "cells": [
  {
   "cell_type": "code",
   "execution_count": 1,
   "id": "07ae7813",
   "metadata": {},
   "outputs": [
    {
     "name": "stdout",
     "output_type": "stream",
     "text": [
      "161.8039272678643\n"
     ]
    }
   ],
   "source": [
    "import Backend.BandasV as BV\n",
    "import pint"
   ]
  },
  {
   "cell_type": "code",
   "execution_count": 4,
   "id": "814c9c75",
   "metadata": {},
   "outputs": [],
   "source": [
    "# --- tablas en pulgadas ---\n",
    "circunferencia_pulg = {\n",
    "    \"A\": [26, 31, 33, 35, 38, 42, 46, 48, 51, 53, 55, 57, 60, 62, 64, 66, 68, 71,\n",
    "          75, 78, 80, 85, 90, 96, 105, 112, 120, 128],\n",
    "    \"B\": [35, 38, 42, 46, 48, 51, 53, 55, 57, 60, 62, 64, 65, 66, 68, 71, 75, 78,\n",
    "          79, 81, 83, 85, 90, 93, 97, 100, 103, 105, 112, 120, 128, 131, 136,\n",
    "          144, 158, 173, 180, 195, 210, 240, 270, 300],\n",
    "    \"C\": [51, 60, 68, 75, 81, 85, 90, 96, 105, 112, 120, 128, 136, 144, 158,\n",
    "          162, 173, 180, 195, 210, 240, 270, 300, 330, 360, 390, 420],\n",
    "    \"D\": [120, 128, 144, 158, 162, 173, 180, 195, 210, 240, 270, 300, 330,\n",
    "          360, 390, 420, 480, 540, 600, 660],\n",
    "    \"E\": [180, 195, 210, 240, 270, 300, 330, 360, 390, 420, 480, 540, 600, 660]\n",
    "}\n",
    "\n",
    "diametro_min_polea = {\"A\": 3.0, \"B\": 5.0, \"C\": 8.5, \"D\": 13.0, \"E\": 21.6}\n",
    "\n",
    "def _mas_cercano(lp, seccion):\n",
    "    tabla = circunferencia_pulg[seccion]\n",
    "    cercano = min(tabla, key=lambda x: abs(x - lp))\n",
    "    error = abs(lp - cercano)\n",
    "    return cercano, error\n",
    "\n",
    "\n",
    "def calc_todos_diametros(C, mg, step=0.5):\n",
    "    resultados = []\n",
    "\n",
    "    for seccion in circunferencia_pulg.keys():\n",
    "        d_min_calc = C / (mg + 1) / 3\n",
    "        d_min_tabla = diametro_min_polea[seccion]\n",
    "        d_min = max(d_min_calc, d_min_tabla)\n",
    "        d_max = C / mg\n",
    "\n",
    "        d = d_min\n",
    "        while d <= d_max:\n",
    "            D = mg * d\n",
    "            lp = BV.longitud_no_inversora(D, d, C)\n",
    "            l_tabla, error = _mas_cercano(lp, seccion)\n",
    "            resultados.append({\n",
    "                \"D\": round(D, 3),\n",
    "                \"d\": round(d, 3),\n",
    "                \"l_calc\": round(lp, 3),\n",
    "                \"l_tabla\": l_tabla,\n",
    "                \"seccion\": seccion,\n",
    "                \"error\": round(error, 4)\n",
    "            })\n",
    "            d += step\n",
    "\n",
    "    # ordena primero por error, luego por tamaño D (más pequeño primero)\n",
    "    resultados.sort(key=lambda x: (x[\"error\"], x[\"D\"]))\n",
    "    return resultados\n",
    "\n",
    "\n",
    "def guardar_factibles(C, mg, step=0.5):\n",
    "    datos = calc_todos_diametros(C, mg, step)\n",
    "    ruta = \"factible_bandas_v.txt\"\n",
    "    with open(ruta, \"w\", encoding=\"utf-8\") as f:\n",
    "        f.write(\"D, d, l_calc, l_tabla, seccion\\n\")\n",
    "        f.write(\"-------------------------------------\\n\")\n",
    "        for r in datos:\n",
    "            f.write(f\"{r['D']}, {r['d']}, {r['l_calc']}, {r['l_tabla']}, {r['seccion']}\\n\")\n",
    "    print(f\"Archivo escrito: {ruta}\")"
   ]
  },
  {
   "cell_type": "code",
   "execution_count": 6,
   "id": "7e3571ac",
   "metadata": {},
   "outputs": [
    {
     "name": "stdout",
     "output_type": "stream",
     "text": [
      "Archivo escrito: factible_bandas_v.txt\n"
     ]
    }
   ],
   "source": [
    "# --- ejemplo directo ---\n",
    "guardar_factibles(C=45, mg=3, step=0.5)"
   ]
  },
  {
   "cell_type": "code",
   "execution_count": null,
   "id": "75dc45d4",
   "metadata": {},
   "outputs": [],
   "source": [
    "BV.V_verificar_diseño_no_inversora(seccion=\"B\", D=10, d=5,\n",
    "                a=None, l=None,\n",
    "                h_nom=0.0, k_serv=1.0,\n",
    "                wd=0.0, f=0.0,\n",
    "                h_adm=None, N_b_in=3,\n",
    "                write=True)"
   ]
  }
 ],
 "metadata": {
  "kernelspec": {
   "display_name": "Python 3",
   "language": "python",
   "name": "python3"
  },
  "language_info": {
   "codemirror_mode": {
    "name": "ipython",
    "version": 3
   },
   "file_extension": ".py",
   "mimetype": "text/x-python",
   "name": "python",
   "nbconvert_exporter": "python",
   "pygments_lexer": "ipython3",
   "version": "3.13.3"
  }
 },
 "nbformat": 4,
 "nbformat_minor": 5
}
