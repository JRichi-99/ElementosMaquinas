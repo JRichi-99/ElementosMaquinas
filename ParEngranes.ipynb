{
 "cells": [
  {
   "cell_type": "code",
   "execution_count": 6,
   "id": "5ce4c7b2",
   "metadata": {},
   "outputs": [],
   "source": [
    "from ERH.elements.PER import ParEngranesResistencia as PER\n",
    "from ERH.elements.flux import iterate_over"
   ]
  },
  {
   "cell_type": "code",
   "execution_count": 7,
   "id": "7b7e98b6",
   "metadata": {},
   "outputs": [],
   "source": [
    "ParEngranes0=PER()"
   ]
  },
  {
   "cell_type": "code",
   "execution_count": 8,
   "id": "9cf4cabf",
   "metadata": {},
   "outputs": [],
   "source": [
    "# Constantes generales\n",
    "C_F = 1     # PAG 31: factor de acabado superficial\n",
    "K_A = 3     # PAG 32 TABLA 17: factor de aplicación\n",
    "K_B = 1     # PAG 32 TABLA 17: factor de tamaño\n",
    "K_M = 1.5   # PAG 32 TABLA 18: factor de montaje\n",
    "K_S = 1     # PAG 33 TABLA 20: factor de tamaño\n",
    "Q_v = 10    # calidad del engrane \n",
    "C_p = 191   # coeficiente de elasticidad [√MPa]\n",
    "I   = None  # índice de geometría de contacto (se calcula)\n",
    "\n",
    "tension_params0 = {\n",
    "    \"K_A\": K_A, \"K_M\": K_M, \"K_S\": K_S, \"K_B\": K_B, \"K_V\": None,\n",
    "    \"K_I_pin\": 1.00, \"K_I_eng\": 1.00,                             \n",
    "    \"Jp_pin\": 0.45, \"Jmod_pin\": 1, \"Jp_eng\": 0.45, \"Jmod_eng\": 1 , # PAG 35 GRAFICO 27 PARA RECTO 28 HELI / # 1 SI ES RECTO PAG 36 GRAFICO 29 \n",
    "    \"C_p\": C_p, \"C_F\": C_F, \"Q_v\": Q_v,\n",
    "    \"I\": I, \"Jp\": None, \"Jg\": None,\n",
    "}"
   ]
  },
  {
   "cell_type": "code",
   "execution_count": 9,
   "id": "f5d57591",
   "metadata": {},
   "outputs": [],
   "source": [
    "Temp, R = 80, 0.99\n",
    "\n",
    "resistance_params0 = {\n",
    "    \"K_L_p\": None, \"C_L_p\": None, \"HB_p\": 400,   # Piñón → PAG 27 D.6, TABLA 10, PAG 30 Tabla 12\n",
    "    \"K_L_g\": None, \"C_L_g\": None, \"HB_g\": 400,   # Engrane → PAG 27 D.6, TABLA 10, PAG 30 Tabla 12\n",
    "    \"temperatura\": Temp, \"R\": R,           # Temp (°C) / Confiabilidad objetivo (0–1)\n",
    "    \"caso_engrane\": \"masa\", \"Rq\": 0.8,     # Caso (masa/superficie) / Rugosidad media (µm)\n",
    "    \"pSF_p\": 340., \"pSFC_p\": 1150,           # Piñón permisible → flexión/contacto (PAG 29–30)\n",
    "    \"pSF_g\": 340, \"pSFC_g\": 1150,           # Engrane permisible → flexión/contacto (PAG 29–30)\n",
    "    \"K_T\": None, \"K_R\": None,              # Factor temperatura / confiabilidad (si aplica)\n",
    "    \"C_H_p\": None, \"C_H_g\": None,          # Factor dureza (piñón/engranaje) (opcional, si se conoce)\n",
    "}"
   ]
  },
  {
   "cell_type": "code",
   "execution_count": null,
   "id": "90d8825d",
   "metadata": {},
   "outputs": [],
   "source": [
    "a=[1,1.25,1.5,2,2.5,3,4]\n",
    "\n",
    "iterate_over(\n",
    "    par_obj = ParEngranes0,                         # instancia PER\n",
    "    relation = 1.54,           # m_g = Ng/Np\n",
    "    psi = 22,                 # [deg]\n",
    "    phi_n  = 20,               # [deg]\n",
    "    modules = [3,4],     # lista de módulos [mm]\n",
    "    tension_params = tension_params0,\n",
    "    resistance_params = resistance_params0,\n",
    "    umbral_fs = 1.45,         # umbral factor de seguridad\n",
    "    max_gear_teeth = 50        # LÍMITE EN EL ENGRANE (Ng máx)\n",
    ")"
   ]
  }
 ],
 "metadata": {
  "kernelspec": {
   "display_name": "Python 3",
   "language": "python",
   "name": "python3"
  },
  "language_info": {
   "codemirror_mode": {
    "name": "ipython",
    "version": 3
   },
   "file_extension": ".py",
   "mimetype": "text/x-python",
   "name": "python",
   "nbconvert_exporter": "python",
   "pygments_lexer": "ipython3",
   "version": "3.13.3"
  }
 },
 "nbformat": 4,
 "nbformat_minor": 5
}
