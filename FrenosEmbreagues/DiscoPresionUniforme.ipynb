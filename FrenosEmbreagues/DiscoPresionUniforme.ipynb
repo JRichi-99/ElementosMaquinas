{
 "cells": [
  {
   "cell_type": "code",
   "execution_count": null,
   "id": "b3db1174",
   "metadata": {},
   "outputs": [],
   "source": [
    "import Backend.FrenoEmbreagueDiscoPresionUniforme as PU\n",
    "from Backend.simbolico_utils import get_SI\n",
    "import pint\n",
    "import numpy as np\n",
    "u = pint.UnitRegistry()"
   ]
  },
  {
   "cell_type": "code",
   "execution_count": null,
   "id": "247fd0b1",
   "metadata": {},
   "outputs": [],
   "source": [
    "H = get_SI(6000 * u.watt)\n",
    "W = get_SI(1500 * u.rpm)\n",
    "T = H/W\n",
    "T"
   ]
  },
  {
   "cell_type": "code",
   "execution_count": null,
   "id": "f726e565",
   "metadata": {},
   "outputs": [],
   "source": [
    "# parámetros globales\n",
    "params = {\n",
    "    \"N\": 2,\n",
    "    \"theta1\": 0.0,\n",
    "    \"theta2\": 1.2,\n",
    "    \"mu\": 0.35,\n",
    "    \"pmax\": 2.0e6,\n",
    "    \"re\": 0.12,\n",
    "    \"ri\": 0.06,\n",
    "    \"T\": None,\n",
    "    \"F\": None,\n",
    "    \"p\": None,\n",
    "    \"requiv\": None,\n",
    "    \"rbar\": None,\n",
    "}\n"
   ]
  },
  {
   "cell_type": "markdown",
   "id": "83d61a82",
   "metadata": {},
   "source": [
    "$$\n",
    "r_i = 0\n",
    "$$\n"
   ]
  },
  {
   "cell_type": "code",
   "execution_count": null,
   "id": "b0186115",
   "metadata": {},
   "outputs": [],
   "source": [
    "# parmaxri\n",
    "# objetivos posibles: \"ri\", \"re\"\n",
    "objetivo = \"ri\"\n",
    "PU.solve_auto(\"parmaxri\", objetivo, params)\n"
   ]
  },
  {
   "cell_type": "markdown",
   "id": "796fa9e9",
   "metadata": {},
   "source": [
    "$$\n",
    "T = N \\, (\\theta_2 - \\theta_1) \\, \\mu \\, p_{max} \\, \\frac{(r_e^3 - r_i^3)}{3}\n",
    "$$\n"
   ]
  },
  {
   "cell_type": "code",
   "execution_count": null,
   "id": "9083ab21",
   "metadata": {},
   "outputs": [],
   "source": [
    "# parfrenado\n",
    "# objetivos posibles: \"T\", \"N\", \"theta1\", \"theta2\", \"mu\", \"pmax\", \"re\", \"ri\"\n",
    "objetivo = \"T\"\n",
    "PU.solve_auto(\"parfrenado\", objetivo, params)\n"
   ]
  },
  {
   "cell_type": "markdown",
   "id": "748bb590",
   "metadata": {},
   "source": [
    "$$\n",
    "F = (\\theta_2 - \\theta_1) \\, p_{max} \\, \\frac{(r_e^2 - r_i^2)}{2}\n",
    "$$\n"
   ]
  },
  {
   "cell_type": "code",
   "execution_count": null,
   "id": "bd6870b6",
   "metadata": {},
   "outputs": [],
   "source": [
    "# fuerzafrenado\n",
    "# objetivos posibles: \"F\", \"theta1\", \"theta2\", \"pmax\", \"re\", \"ri\"\n",
    "objetivo = \"F\"\n",
    "PU.solve_auto(\"fuerzafrenado\", objetivo, params)\n"
   ]
  },
  {
   "cell_type": "markdown",
   "id": "74782cc2",
   "metadata": {},
   "source": [
    "$$\n",
    "p = p_{max}\n",
    "$$\n"
   ]
  },
  {
   "cell_type": "code",
   "execution_count": null,
   "id": "cd7c5ccd",
   "metadata": {},
   "outputs": [],
   "source": [
    "# presion\n",
    "# objetivos posibles: \"p\", \"pmax\"\n",
    "objetivo = \"p\"\n",
    "PU.solve_auto(\"presion\", objetivo, params)\n"
   ]
  },
  {
   "cell_type": "markdown",
   "id": "e11a254e",
   "metadata": {},
   "source": [
    "$$\n",
    "r_{equiv} = \\frac{2}{3} \\, \\frac{r_e^3 - r_i^3}{r_e^2 - r_i^2}\n",
    "$$\n"
   ]
  },
  {
   "cell_type": "code",
   "execution_count": null,
   "id": "cf27bfc2",
   "metadata": {},
   "outputs": [],
   "source": [
    "# radioequivalente\n",
    "# objetivos posibles: \"requiv\", \"re\", \"ri\"\n",
    "objetivo = \"requiv\"\n",
    "PU.solve_auto(\"radioequivalente\", objetivo, params)\n"
   ]
  },
  {
   "cell_type": "markdown",
   "id": "ba50245b",
   "metadata": {},
   "source": [
    "$$\n",
    "r_{bar} = \\frac{\\cos(\\theta_1) - \\cos(\\theta_2)}{\\theta_2 - \\theta_1} \\, r_{equiv}\n",
    "$$\n"
   ]
  },
  {
   "cell_type": "code",
   "execution_count": null,
   "id": "5615c783",
   "metadata": {},
   "outputs": [],
   "source": [
    "# radiofuerza\n",
    "# objetivos posibles: \"rbar\", \"theta1\", \"theta2\", \"requiv\"\n",
    "objetivo = \"rbar\"\n",
    "PU.solve_auto(\"radiofuerza\", objetivo, params)\n"
   ]
  }
 ],
 "metadata": {
  "kernelspec": {
   "display_name": "Python 3",
   "language": "python",
   "name": "python3"
  },
  "language_info": {
   "name": "python",
   "version": "3.13.3"
  }
 },
 "nbformat": 4,
 "nbformat_minor": 5
}
