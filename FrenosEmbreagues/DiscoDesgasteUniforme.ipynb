{
 "cells": [
  {
   "cell_type": "code",
   "execution_count": 7,
   "id": "b3db1174",
   "metadata": {},
   "outputs": [],
   "source": [
    "import Backend.FrenoEmbreagueDiscoDesgasteUniforme as DU\n",
    "from Backend.simbolico_utils import get_SI\n",
    "import pint\n",
    "import numpy as np\n",
    "import sympy as sp\n",
    "u = pint.UnitRegistry()"
   ]
  },
  {
   "cell_type": "code",
   "execution_count": 8,
   "id": "2574c8b8",
   "metadata": {},
   "outputs": [
    {
     "data": {
      "text/plain": [
       "47.47272825012394"
      ]
     },
     "execution_count": 8,
     "metadata": {},
     "output_type": "execute_result"
    }
   ],
   "source": [
    "H = get_SI(10 * u.hp)\n",
    "W = get_SI(1500 * u.rpm)\n",
    "T = H/W\n",
    "T"
   ]
  },
  {
   "cell_type": "code",
   "execution_count": null,
   "id": "1073bc6e",
   "metadata": {},
   "outputs": [],
   "source": [
    "# Parámetros globales\n",
    "N = 2               # número de superficies de fricción\n",
    "theta1 = 0.0        # ángulo inicial [rad]\n",
    "theta2 = sp.pi      # ángulo final [rad]\n",
    "mu = 0.2            # coeficiente de fricción\n",
    "pmax = 720e3        # presión máxima [Pa]\n",
    "re = 100e-3         # radio exterior [m]\n",
    "ri = 0.057           # radio interior [m]\n",
    "T = 47.47           # par de frenado [N·m]\n",
    "#F = None            # fuerza axial [N]\n",
    "#p = None            # presión local [Pa]\n",
    "#requiv = None       # radio equivalente [m]\n",
    "#rbar = None         # coordenada de la fuerza resultante [m]\n"
   ]
  },
  {
   "cell_type": "markdown",
   "id": "5e82d553",
   "metadata": {},
   "source": [
    "$$\n",
    "r_i = \\frac{\\sqrt{3}}{3} \\, r_e\n",
    "$$\n"
   ]
  },
  {
   "cell_type": "code",
   "execution_count": 11,
   "id": "eb59da5d",
   "metadata": {},
   "outputs": [
    {
     "data": {
      "text/plain": [
       "[0.0577350269189626]"
      ]
     },
     "execution_count": 11,
     "metadata": {},
     "output_type": "execute_result"
    }
   ],
   "source": [
    "# Relación de par máximo ri/re\n",
    "# Variables: ri, re\n",
    "DU.solve_eq('parmaxri', objetivo='ri', **{'re': re})\n"
   ]
  },
  {
   "cell_type": "markdown",
   "id": "644cdcd7",
   "metadata": {},
   "source": [
    "$$\n",
    "T = N \\, (\\theta_2 - \\theta_1) \\, \\mu \\, p_{max} \\, r_i \\, \\frac{(r_e^2 - r_i^2)}{2}\n",
    "$$\n"
   ]
  },
  {
   "cell_type": "code",
   "execution_count": null,
   "id": "6e6112cf",
   "metadata": {},
   "outputs": [],
   "source": [
    "# Par de frenado\n",
    "# Variables: N, theta1, theta2, mu, pmax, ri, re, T\n",
    "DU.solve_eq('parfrenado', objetivo='T', **{'N': N, 'theta1': theta1, 'theta2': theta2, 'mu': mu, 'pmax': pmax, 'ri': ri, 're': re})\n",
    "\n"
   ]
  },
  {
   "cell_type": "markdown",
   "id": "334ee1a8",
   "metadata": {},
   "source": [
    "$$\n",
    "F = (\\theta_2 - \\theta_1) \\, p_{max} \\, r_i \\, (r_e - r_i)\n",
    "$$\n"
   ]
  },
  {
   "cell_type": "code",
   "execution_count": null,
   "id": "e3888d18",
   "metadata": {},
   "outputs": [],
   "source": [
    "# Fuerza de frenado\n",
    "# Variables: theta1, theta2, pmax, ri, re, F\n",
    "DU.solve_eq('fuerzafrenado', objetivo='F', **{'theta1': theta1, 'theta2': theta2, 'pmax': pmax, 'ri': ri, 're': re})\n"
   ]
  },
  {
   "cell_type": "markdown",
   "id": "dd94bb9c",
   "metadata": {},
   "source": [
    "$$\n",
    "p = p_{max} \\, \\frac{r_i}{r}\n",
    "$$\n"
   ]
  },
  {
   "cell_type": "code",
   "execution_count": null,
   "id": "ad9008e6",
   "metadata": {},
   "outputs": [],
   "source": [
    "# Presión sobre el radio\n",
    "# Variables: pmax, ri, r, p\n",
    "r = 0.08            # radio para presión local [m]\n",
    "DU.solve_eq('presion', objetivo='p', **{'pmax': pmax, 'ri': ri, 'r': r})\n"
   ]
  },
  {
   "cell_type": "markdown",
   "id": "096708e5",
   "metadata": {},
   "source": [
    "$$\n",
    "r_{equiv} = \\frac{r_e + r_i}{2}\n",
    "$$\n"
   ]
  },
  {
   "cell_type": "code",
   "execution_count": null,
   "id": "15c46dda",
   "metadata": {},
   "outputs": [],
   "source": [
    "# Radio equivalente\n",
    "# Variables: re, ri, requiv\n",
    "DU.solve_eq('radioequivalente', objetivo='requiv', **{'re': re, 'ri': ri})\n"
   ]
  },
  {
   "cell_type": "markdown",
   "id": "2d2e7779",
   "metadata": {},
   "source": [
    "$$\n",
    "r_{bar} = \\frac{\\cos(\\theta_1) - \\cos(\\theta_2)}{\\theta_2 - \\theta_1} \\, r_{equiv}\n",
    "$$\n"
   ]
  },
  {
   "cell_type": "code",
   "execution_count": null,
   "id": "6512e3bc",
   "metadata": {},
   "outputs": [],
   "source": [
    "# Radio de fuerza\n",
    "# Variables: theta1, theta2, requiv, rbar\n",
    "DU.solve_eq('radiofuerza', objetivo='rbar', **{'theta1': theta1, 'theta2': theta2, 'requiv': requiv})\n"
   ]
  }
 ],
 "metadata": {
  "kernelspec": {
   "display_name": "Python 3",
   "language": "python",
   "name": "python3"
  },
  "language_info": {
   "codemirror_mode": {
    "name": "ipython",
    "version": 3
   },
   "file_extension": ".py",
   "mimetype": "text/x-python",
   "name": "python",
   "nbconvert_exporter": "python",
   "pygments_lexer": "ipython3",
   "version": "3.13.3"
  }
 },
 "nbformat": 4,
 "nbformat_minor": 5
}
