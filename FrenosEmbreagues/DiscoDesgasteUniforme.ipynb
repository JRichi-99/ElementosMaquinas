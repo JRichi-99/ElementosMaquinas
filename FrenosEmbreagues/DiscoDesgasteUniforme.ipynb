{
 "cells": [
  {
   "cell_type": "code",
   "execution_count": null,
   "id": "b3db1174",
   "metadata": {},
   "outputs": [],
   "source": [
    "import Backend.FrenoEmbreagueDiscoDesgasteUniforme as DU\n",
    "from Backend.simbolico_utils import get_SI\n",
    "import pint\n",
    "import numpy as np\n",
    "u = pint.UnitRegistry()"
   ]
  },
  {
   "cell_type": "code",
   "execution_count": null,
   "id": "2574c8b8",
   "metadata": {},
   "outputs": [],
   "source": [
    "H = get_SI(6000 * u.watt)\n",
    "W = get_SI(1500 * u.rpm)\n",
    "T = H/W\n",
    "T"
   ]
  },
  {
   "cell_type": "code",
   "execution_count": null,
   "id": "1073bc6e",
   "metadata": {},
   "outputs": [],
   "source": [
    "# parámetros globales\n",
    "params = {\n",
    "    \"N\": 2,             # número de superficies de fricción\n",
    "    \"theta1\": 0.0,      # ángulo inicial [rad]\n",
    "    \"theta2\": 1.2,      # ángulo final [rad]\n",
    "    \"mu\": 0.35,         # coeficiente de fricción\n",
    "    \"pmax\": 2.0e6,      # presión máxima [Pa]\n",
    "    \"re\": 0.12,         # radio exterior [m]\n",
    "    \"ri\": 0.06,         # radio interior [m]\n",
    "    \"r\": 0.08,          # radio para presión local [m]\n",
    "    \"T\": None,          # par de frenado\n",
    "    \"F\": None,          # fuerza axial\n",
    "    \"p\": None,          # presión local\n",
    "    \"requiv\": None,     # radio equivalente\n",
    "    \"rbar\": None        # coordenada de la fuerza resultante\n",
    "}\n"
   ]
  },
  {
   "cell_type": "markdown",
   "id": "5e82d553",
   "metadata": {},
   "source": [
    "$$\n",
    "r_i = \\frac{\\sqrt{3}}{3} \\, r_e\n",
    "$$\n"
   ]
  },
  {
   "cell_type": "code",
   "execution_count": null,
   "id": "eb59da5d",
   "metadata": {},
   "outputs": [],
   "source": [
    "# objetivos posibles: \"ri\", \"re\"\n",
    "objetivo = \"ri\"\n",
    "DU.solve_auto(\"parmaxri\", objetivo, params)\n"
   ]
  },
  {
   "cell_type": "markdown",
   "id": "644cdcd7",
   "metadata": {},
   "source": [
    "$$\n",
    "T = N \\, (\\theta_2 - \\theta_1) \\, \\mu \\, p_{max} \\, r_i \\, \\frac{(r_e^2 - r_i^2)}{2}\n",
    "$$\n"
   ]
  },
  {
   "cell_type": "code",
   "execution_count": null,
   "id": "6e6112cf",
   "metadata": {},
   "outputs": [],
   "source": [
    "# objetivos posibles: \"T\", \"N\", \"theta1\", \"theta2\", \"mu\", \"pmax\", \"ri\", \"re\"\n",
    "objetivo = \"T\"\n",
    "DU.solve_auto(\"parfrenado\", objetivo, params)\n"
   ]
  },
  {
   "cell_type": "markdown",
   "id": "334ee1a8",
   "metadata": {},
   "source": [
    "$$\n",
    "F = (\\theta_2 - \\theta_1) \\, p_{max} \\, r_i \\, (r_e - r_i)\n",
    "$$\n"
   ]
  },
  {
   "cell_type": "code",
   "execution_count": null,
   "id": "e3888d18",
   "metadata": {},
   "outputs": [],
   "source": [
    "# objetivos posibles: \"F\", \"theta1\", \"theta2\", \"pmax\", \"ri\", \"re\"\n",
    "objetivo = \"F\"\n",
    "DU.solve_auto(\"fuerzafrenado\", objetivo, params)\n"
   ]
  },
  {
   "cell_type": "markdown",
   "id": "dd94bb9c",
   "metadata": {},
   "source": [
    "$$\n",
    "p = p_{max} \\, \\frac{r_i}{r}\n",
    "$$\n"
   ]
  },
  {
   "cell_type": "code",
   "execution_count": null,
   "id": "ad9008e6",
   "metadata": {},
   "outputs": [],
   "source": [
    "# objetivos posibles: \"p\", \"pmax\", \"ri\", \"r\"\n",
    "objetivo = \"p\"\n",
    "DU.solve_auto(\"presion\", objetivo, params)\n"
   ]
  },
  {
   "cell_type": "markdown",
   "id": "096708e5",
   "metadata": {},
   "source": [
    "$$\n",
    "r_{equiv} = \\frac{r_e + r_i}{2}\n",
    "$$\n"
   ]
  },
  {
   "cell_type": "code",
   "execution_count": null,
   "id": "15c46dda",
   "metadata": {},
   "outputs": [],
   "source": [
    "# objetivos posibles: \"requiv\", \"re\", \"ri\"\n",
    "objetivo = \"requiv\"\n",
    "DU.solve_auto(\"radioequivalente\", objetivo, params)"
   ]
  },
  {
   "cell_type": "markdown",
   "id": "2d2e7779",
   "metadata": {},
   "source": [
    "$$\n",
    "r_{bar} = \\frac{\\cos(\\theta_1) - \\cos(\\theta_2)}{\\theta_2 - \\theta_1} \\, r_{equiv}\n",
    "$$\n"
   ]
  },
  {
   "cell_type": "code",
   "execution_count": null,
   "id": "6512e3bc",
   "metadata": {},
   "outputs": [],
   "source": [
    "# objetivos posibles: \"rbar\", \"theta1\", \"theta2\", \"requiv\"\n",
    "objetivo = \"rbar\"\n",
    "DU.solve_auto(\"radiofuerza\", objetivo, params)"
   ]
  }
 ],
 "metadata": {
  "kernelspec": {
   "display_name": "Python 3",
   "language": "python",
   "name": "python3"
  },
  "language_info": {
   "codemirror_mode": {
    "name": "ipython",
    "version": 3
   },
   "file_extension": ".py",
   "mimetype": "text/x-python",
   "name": "python",
   "nbconvert_exporter": "python",
   "pygments_lexer": "ipython3",
   "version": "3.13.3"
  }
 },
 "nbformat": 4,
 "nbformat_minor": 5
}
