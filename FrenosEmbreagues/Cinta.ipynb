{
 "cells": [
  {
   "cell_type": "code",
   "execution_count": null,
   "id": "e5f720a9",
   "metadata": {},
   "outputs": [],
   "source": [
    "import Backend.FrenoCinta as C\n",
    "from Backend.simbolico_utils import get_SI\n",
    "import pint\n",
    "u = pint.UnitRegistry()"
   ]
  },
  {
   "cell_type": "code",
   "execution_count": null,
   "id": "0ff89552",
   "metadata": {},
   "outputs": [],
   "source": [
    "H = get_SI(6000 * u.watt)\n",
    "W = get_SI(1500 * u.rpm)\n",
    "T = H/W\n",
    "T\n"
   ]
  },
  {
   "cell_type": "code",
   "execution_count": null,
   "id": "645a7f78",
   "metadata": {},
   "outputs": [],
   "source": [
    "# Parámetros globales\n",
    "params = {\n",
    "    \"mu\": 0.35,      # coeficiente de fricción\n",
    "    \"theta\": 2.0,    # ángulo de arrope [rad]\n",
    "    \"P1\": 400,       # fuerza tensa [N]\n",
    "    \"P2\": 250,       # fuerza floja [N]\n",
    "    \"D\": 0.30,       # diámetro del tambor [m]\n",
    "    \"b\": 0.05,       # ancho de la banda [m]\n",
    "    \"T\": None,       # par de frenado [N·m]\n",
    "    \"p_adm\": None    # presión admisible [Pa]\n",
    "}\n"
   ]
  },
  {
   "cell_type": "markdown",
   "id": "0ea6c21d",
   "metadata": {},
   "source": [
    "$$\n",
    "P_1 = P_2 \\, e^{\\mu \\, \\theta}\n",
    "$$"
   ]
  },
  {
   "cell_type": "code",
   "execution_count": null,
   "id": "1a6b45ae",
   "metadata": {},
   "outputs": [],
   "source": [
    "# objetivo: P1, P2, mu, theta\n",
    "objetivo = \"P1\"\n",
    "C.solve_auto(\"relacionfuerzas\", objetivo, params)"
   ]
  },
  {
   "cell_type": "markdown",
   "id": "5224c353",
   "metadata": {},
   "source": [
    "$$\n",
    "T = \\frac{(P_1 - P_2)\\, D}{2}\n",
    "$$"
   ]
  },
  {
   "cell_type": "code",
   "execution_count": null,
   "id": "a159c081",
   "metadata": {},
   "outputs": [],
   "source": [
    "# objetivo: T, P1, P2 o D\n",
    "objetivo = \"T\"\n",
    "C.solve_auto(\"parfrenado\", objetivo, params)\n"
   ]
  },
  {
   "cell_type": "markdown",
   "id": "2a632a2a",
   "metadata": {},
   "source": [
    "$$\n",
    "p_{adm} = \\frac{2 P_1}{b \\, D}\n",
    "$$"
   ]
  },
  {
   "cell_type": "code",
   "execution_count": null,
   "id": "c8c3a05c",
   "metadata": {},
   "outputs": [],
   "source": [
    "# objetivo: p_adm, P1, b o D\n",
    "objetivo = \"p_adm\"\n",
    "C.solve_auto(\"presionadmisible\", objetivo, params)\n"
   ]
  }
 ],
 "metadata": {
  "kernelspec": {
   "display_name": "Python 3",
   "language": "python",
   "name": "python3"
  },
  "language_info": {
   "codemirror_mode": {
    "name": "ipython",
    "version": 3
   },
   "file_extension": ".py",
   "mimetype": "text/x-python",
   "name": "python",
   "nbconvert_exporter": "python",
   "pygments_lexer": "ipython3",
   "version": "3.13.3"
  }
 },
 "nbformat": 4,
 "nbformat_minor": 5
}
