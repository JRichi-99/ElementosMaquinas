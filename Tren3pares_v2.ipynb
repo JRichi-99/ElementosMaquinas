{
 "cells": [
  {
   "cell_type": "code",
   "execution_count": 1,
   "id": "298a15fc",
   "metadata": {},
   "outputs": [],
   "source": [
    "from ERH.elements.Tren import TrenEngrane\n",
    "from ERH.elements.PER import ParEngranesResistencia as PER\n",
    "from ERH.elements.flux import run_par_pipeline"
   ]
  },
  {
   "cell_type": "code",
   "execution_count": 2,
   "id": "da28eae9",
   "metadata": {},
   "outputs": [],
   "source": [
    "\"\"\"geometria','transmision','esfuerzos','resistencia\"\"\"\n",
    "Tren = TrenEngrane()\n",
    "\n",
    "ParEngranes0=PER()\n",
    "#ParEngranes1=PER()\n",
    "#ParEngranes2=PER()\n",
    "ParEngranes = [ParEngranes0]"
   ]
  },
  {
   "cell_type": "code",
   "execution_count": 3,
   "id": "563424be",
   "metadata": {},
   "outputs": [],
   "source": [
    "#ParEngranes0.orientacion(m_g = 2.93, phi_n=20, psi=0, m=2, pi_n=None)"
   ]
  },
  {
   "cell_type": "code",
   "execution_count": null,
   "id": "ded3747c",
   "metadata": {},
   "outputs": [
    {
     "data": {
      "text/plain": [
       "' geo1_params = {\\n    \"pi_n\": pi_n, \"m\": m, \"phi_n\": phi_n, \"psi\": psi,\\n    \"N_pinion\": 36, \"N_engrane\": 106,\\n    \"F_pinion\": F, \"F_engrane\": F,\\n    \"sistema_dientes\": \"total\", \"acople\": \"externos\",\\n    \"xp\": 0.0,\\n}\\n\\ngeo2_params = {\\n    \"pi_n\": pi_n, \"m\": m, \"phi_n\": phi_n, \"psi\": psi,\\n    \"N_pinion\": 36, \"N_engrane\": 106,\\n    \"F_pinion\": F, \"F_engrane\": F,\\n    \"sistema_dientes\": \"total\", \"acople\": \"externos\",\\n    \"xp\": 0.0,\\n}\\n '"
      ]
     },
     "execution_count": 4,
     "metadata": {},
     "output_type": "execute_result"
    }
   ],
   "source": [
    "m = 5 # 1 2 o 3\n",
    "pi_n = 20\n",
    "F = m*16\n",
    "psi = 22\n",
    "phi_n = 20\n",
    "geo0_params = {\n",
    "    \"pi_n\": pi_n, \"m\": m, \"phi_n\": phi_n, \"psi\": psi,\n",
    "    \"N_pinion\": 27, \"N_engrane\": 46,\n",
    "    \"F_pinion\": F, \"F_engrane\": F,\n",
    "    \"sistema_dientes\": \"total\", \"acople\": \"externos\",\n",
    "    \"xp\": 0.0,\n",
    "}\n",
    "\n",
    "\"\"\" geo1_params = {\n",
    "    \"pi_n\": pi_n, \"m\": m, \"phi_n\": phi_n, \"psi\": psi,\n",
    "    \"N_pinion\": 36, \"N_engrane\": 106,\n",
    "    \"F_pinion\": F, \"F_engrane\": F,\n",
    "    \"sistema_dientes\": \"total\", \"acople\": \"externos\",\n",
    "    \"xp\": 0.0,\n",
    "}\n",
    "\n",
    "geo2_params = {\n",
    "    \"pi_n\": pi_n, \"m\": m, \"phi_n\": phi_n, \"psi\": psi,\n",
    "    \"N_pinion\": 36, \"N_engrane\": 106,\n",
    "    \"F_pinion\": F, \"F_engrane\": F,\n",
    "    \"sistema_dientes\": \"total\", \"acople\": \"externos\",\n",
    "    \"xp\": 0.0,\n",
    "}\n",
    " \"\"\"\n"
   ]
  },
  {
   "cell_type": "code",
   "execution_count": 5,
   "id": "e7e53810",
   "metadata": {},
   "outputs": [
    {
     "data": {
      "text/plain": [
       "' run_par_pipeline(ParEngranes1, geo1_params, until=\"g\")\\nrun_par_pipeline(ParEngranes2, geo2_params, until=\"g\") '"
      ]
     },
     "execution_count": 5,
     "metadata": {},
     "output_type": "execute_result"
    }
   ],
   "source": [
    "run_par_pipeline(ParEngranes0, geo0_params, until=\"g\")\n",
    "\"\"\" run_par_pipeline(ParEngranes1, geo1_params, until=\"g\")\n",
    "run_par_pipeline(ParEngranes2, geo2_params, until=\"g\") \"\"\""
   ]
  },
  {
   "cell_type": "code",
   "execution_count": 6,
   "id": "158aee62",
   "metadata": {},
   "outputs": [],
   "source": [
    "trans_params = {\n",
    "    \"start_id\": 0, \"where\": \"pinion\",\n",
    "    \"H\": 85, \"H_units\": \"hp\",\n",
    "    \"Omega\": 2500, \"Omega_units\": \"rpm\",\n",
    "    \"T\": None, \"T_units\": \"si\",\n",
    "}"
   ]
  },
  {
   "cell_type": "code",
   "execution_count": 7,
   "id": "f157fcc2",
   "metadata": {},
   "outputs": [],
   "source": [
    "for par in ParEngranes:\n",
    "    Tren.add_pair(par)\n",
    "\n",
    "#Tren.connect(0,1,\"engrane\",\"pinion\")\n",
    "#Tren.connect(1,2,\"engrane\",\"pinion\")\n",
    "Tren.solve_transmision(**trans_params)\n",
    "ParEngranes0.set_ciclos(4,260,4)\n",
    "Tren.resumen_transmision()"
   ]
  },
  {
   "cell_type": "code",
   "execution_count": 8,
   "id": "788c385f",
   "metadata": {},
   "outputs": [
    {
     "data": {
      "text/plain": [
       "' tension_params1 = {\\n    \"K_A\": K_A, \"K_M\": K_M, \"K_S\": K_S, \"K_B\": K_B, \"K_V\": None,\\n    \"K_I_pin\": 1.00, \"K_I_eng\": 1.00,\\n    \"Jp_pin\": 0.41, \"Jmod_pin\": 1, \"Jp_eng\": 0.45, \"Jmod_eng\": 1, # PAG 35 GRAFICO 27 PARA RECTO 28 HELI / # 1 SI ES RECTO PAG 36 GRAFICO 29 \\n    \"C_p\": C_p, \"C_F\": C_F, \"Q_v\": Q_v,\\n    \"I\": I, \"Jp\": None, \"Jg\": None,\\n}\\ntension_params2 = {\\n    \"K_A\": K_A, \"K_M\": K_M, \"K_S\": K_S, \"K_B\": K_B, \"K_V\": None,\\n    \"K_I_pin\": 1.00, \"K_I_eng\": 1.00,\\n    \"Jp_pin\": 0.41, \"Jmod_pin\": 1, \"Jp_eng\": 0.45, \"Jmod_eng\": 1, # PAG 35 GRAFICO 27 PARA RECTO 28 HELI / # 1 SI ES RECTO PAG 36 GRAFICO 29 \\n    \"C_p\": C_p, \"C_F\": C_F, \"Q_v\": Q_v,\\n    \"I\": I, \"Jp\": None, \"Jg\": None,\\n} '"
      ]
     },
     "execution_count": 8,
     "metadata": {},
     "output_type": "execute_result"
    }
   ],
   "source": [
    "# Constantes generales\n",
    "C_F = 1     # PAG 31: factor de acabado superficial\n",
    "K_A = 3     # PAG 32 TABLA 17: factor de aplicación\n",
    "K_B = 1     # PAG 32 TABLA 17: factor de tamaño\n",
    "K_M = 1.5   # PAG 32 TABLA 18: factor de montaje\n",
    "K_S = 1     # PAG 33 TABLA 20: factor de tamaño\n",
    "Q_v = 10    # calidad del engrane  /6 peor caso posible\n",
    "C_p = 191   # coeficiente de elasticidad [√MPa]\n",
    "I   = None  # índice de geometría de contacto (se calcula)\n",
    "\n",
    "tension_params0 = {\n",
    "    \"K_A\": K_A, \"K_M\": K_M, \"K_S\": K_S, \"K_B\": K_B, \"K_V\": None,\n",
    "    \"K_I_pin\": 1.00, \"K_I_eng\": 1.00,                             \n",
    "    \"Jp_pin\": 0.45, \"Jmod_pin\": 1, \"Jp_eng\": 0.45, \"Jmod_eng\": 1, # PAG 35 GRAFICO 27 PARA RECTO 28 HELI / # 1 SI ES RECTO PAG 36 GRAFICO 29 \n",
    "    \"C_p\": C_p, \"C_F\": C_F, \"Q_v\": Q_v,\n",
    "    \"I\": I, \"Jp\": None, \"Jg\": None,\n",
    "}\n",
    "\n",
    "\"\"\" tension_params1 = {\n",
    "    \"K_A\": K_A, \"K_M\": K_M, \"K_S\": K_S, \"K_B\": K_B, \"K_V\": None,\n",
    "    \"K_I_pin\": 1.00, \"K_I_eng\": 1.00,\n",
    "    \"Jp_pin\": 0.41, \"Jmod_pin\": 1, \"Jp_eng\": 0.45, \"Jmod_eng\": 1, # PAG 35 GRAFICO 27 PARA RECTO 28 HELI / # 1 SI ES RECTO PAG 36 GRAFICO 29 \n",
    "    \"C_p\": C_p, \"C_F\": C_F, \"Q_v\": Q_v,\n",
    "    \"I\": I, \"Jp\": None, \"Jg\": None,\n",
    "}\n",
    "tension_params2 = {\n",
    "    \"K_A\": K_A, \"K_M\": K_M, \"K_S\": K_S, \"K_B\": K_B, \"K_V\": None,\n",
    "    \"K_I_pin\": 1.00, \"K_I_eng\": 1.00,\n",
    "    \"Jp_pin\": 0.41, \"Jmod_pin\": 1, \"Jp_eng\": 0.45, \"Jmod_eng\": 1, # PAG 35 GRAFICO 27 PARA RECTO 28 HELI / # 1 SI ES RECTO PAG 36 GRAFICO 29 \n",
    "    \"C_p\": C_p, \"C_F\": C_F, \"Q_v\": Q_v,\n",
    "    \"I\": I, \"Jp\": None, \"Jg\": None,\n",
    "} \"\"\"\n",
    "\n"
   ]
  },
  {
   "cell_type": "code",
   "execution_count": 9,
   "id": "1357ec6c",
   "metadata": {},
   "outputs": [
    {
     "data": {
      "text/plain": [
       "' resistance_params1 = {\\n    \"K_L_p\": 0.85, \"C_L_p\": 0.754, \"HB_p\": 320,   # Piñón → PAG 27 D.6, TABLA 10, PAG 30 Tabla 12\\n    \"K_L_g\": 0.88, \"C_L_g\": 0.8, \"HB_g\": 320,   # Engrane → PAG 27 D.6, TABLA 10, PAG 30 Tabla 12\\n    \"temperatura\": Temp, \"R\": R,           # Temp (°C) / Confiabilidad objetivo (0–1)\\n    \"caso_engrane\": \"masa\", \"Rq\": 0.8,     # Caso (masa/superficie) / Rugosidad media (µm)\\n    \"pSF_p\": 337.91, \"pSFC_p\": 992.4,           # Piñón permisible → flexión/contacto (PAG 29–30)\\n    \"pSF_g\": 337.91, \"pSFC_g\": 992.4,           # Engrane permisible → flexión/contacto (PAG 29–30)\\n    \"K_T\": None, \"K_R\": None,              # Factor temperatura / confiabilidad (si aplica)\\n    \"C_H_p\": None, \"C_H_g\": None,          # Factor dureza (piñón/engranaje) (opcional, si se conoce)\\n}\\nresistance_params2 = {\\n    \"K_L_p\": 0.88, \"C_L_p\": 0.8, \"HB_p\": 320,   # Piñón → PAG 27 D.6, TABLA 10, PAG 30 Tabla 12\\n    \"K_L_g\": 0.91, \"C_L_g\": 0.85, \"HB_g\": 320,   # Engrane → PAG 27 D.6, TABLA 10, PAG 30 Tabla 12\\n    \"temperatura\": Temp, \"R\": R,           # Temp (°C) / Confiabilidad objetivo (0–1)\\n    \"caso_engrane\": \"masa\", \"Rq\": 0.8,     # Caso (masa/superficie) / Rugosidad media (µm)\\n    \"pSF_p\": 337.91, \"pSFC_p\": 992.4,           # Piñón permisible → flexión/contacto (PAG 29–30)\\n    \"pSF_g\": 337.91, \"pSFC_g\": 992.4,           # Engrane permisible → flexión/contacto (PAG 29–30)\\n    \"K_T\": None, \"K_R\": None,              # Factor temperatura / confiabilidad (si aplica)\\n    \"C_H_p\": None, \"C_H_g\": None,          # Factor dureza (piñón/engranaje) (opcional, si se conoce)\\n} '"
      ]
     },
     "execution_count": 9,
     "metadata": {},
     "output_type": "execute_result"
    }
   ],
   "source": [
    "Temp, R = 80, 0.99\n",
    "\n",
    "resistance_params0 = {\n",
    "    \"K_L_p\": None, \"C_L_p\": None, \"HB_p\": 400,   # Piñón → PAG 27 D.6, TABLA 10, PAG 30 Tabla 12\n",
    "    \"K_L_g\": None, \"C_L_g\": None, \"HB_g\": 400,   # Engrane → PAG 27 D.6, TABLA 10, PAG 30 Tabla 12\n",
    "    \"temperatura\": Temp, \"R\": R,           # Temp (°C) / Confiabilidad objetivo (0–1)\n",
    "    \"caso_engrane\": \"masa\", \"Rq\": 0.8,     # Caso (masa/superficie) / Rugosidad media (µm)\n",
    "    \"pSF_p\": 340., \"pSFC_p\": 1150,           # Piñón permisible → flexión/contacto (PAG 29–30)\n",
    "    \"pSF_g\": 340, \"pSFC_g\": 1150,           # Engrane permisible → flexión/contacto (PAG 29–30)\n",
    "    \"K_T\": None, \"K_R\": None,              # Factor temperatura / confiabilidad (si aplica)\n",
    "    \"C_H_p\": None, \"C_H_g\": None,          # Factor dureza (piñón/engranaje) (opcional, si se conoce)\n",
    "}\n",
    "\n",
    "\"\"\" resistance_params1 = {\n",
    "    \"K_L_p\": 0.85, \"C_L_p\": 0.754, \"HB_p\": 320,   # Piñón → PAG 27 D.6, TABLA 10, PAG 30 Tabla 12\n",
    "    \"K_L_g\": 0.88, \"C_L_g\": 0.8, \"HB_g\": 320,   # Engrane → PAG 27 D.6, TABLA 10, PAG 30 Tabla 12\n",
    "    \"temperatura\": Temp, \"R\": R,           # Temp (°C) / Confiabilidad objetivo (0–1)\n",
    "    \"caso_engrane\": \"masa\", \"Rq\": 0.8,     # Caso (masa/superficie) / Rugosidad media (µm)\n",
    "    \"pSF_p\": 337.91, \"pSFC_p\": 992.4,           # Piñón permisible → flexión/contacto (PAG 29–30)\n",
    "    \"pSF_g\": 337.91, \"pSFC_g\": 992.4,           # Engrane permisible → flexión/contacto (PAG 29–30)\n",
    "    \"K_T\": None, \"K_R\": None,              # Factor temperatura / confiabilidad (si aplica)\n",
    "    \"C_H_p\": None, \"C_H_g\": None,          # Factor dureza (piñón/engranaje) (opcional, si se conoce)\n",
    "}\n",
    "resistance_params2 = {\n",
    "    \"K_L_p\": 0.88, \"C_L_p\": 0.8, \"HB_p\": 320,   # Piñón → PAG 27 D.6, TABLA 10, PAG 30 Tabla 12\n",
    "    \"K_L_g\": 0.91, \"C_L_g\": 0.85, \"HB_g\": 320,   # Engrane → PAG 27 D.6, TABLA 10, PAG 30 Tabla 12\n",
    "    \"temperatura\": Temp, \"R\": R,           # Temp (°C) / Confiabilidad objetivo (0–1)\n",
    "    \"caso_engrane\": \"masa\", \"Rq\": 0.8,     # Caso (masa/superficie) / Rugosidad media (µm)\n",
    "    \"pSF_p\": 337.91, \"pSFC_p\": 992.4,           # Piñón permisible → flexión/contacto (PAG 29–30)\n",
    "    \"pSF_g\": 337.91, \"pSFC_g\": 992.4,           # Engrane permisible → flexión/contacto (PAG 29–30)\n",
    "    \"K_T\": None, \"K_R\": None,              # Factor temperatura / confiabilidad (si aplica)\n",
    "    \"C_H_p\": None, \"C_H_g\": None,          # Factor dureza (piñón/engranaje) (opcional, si se conoce)\n",
    "} \"\"\"\n",
    "\n"
   ]
  },
  {
   "cell_type": "code",
   "execution_count": 10,
   "id": "aee53665",
   "metadata": {},
   "outputs": [
    {
     "data": {
      "text/plain": [
       "' run_par_pipeline(ParEngranes1, geo1_params, tension_params1, resistance_params1, \"r\")\\nrun_par_pipeline(ParEngranes2, geo2_params, tension_params2, resistance_params2, \"r\") '"
      ]
     },
     "execution_count": 10,
     "metadata": {},
     "output_type": "execute_result"
    }
   ],
   "source": [
    "run_par_pipeline(ParEngranes0, geo0_params, tension_params0, resistance_params0, \"r\")\n",
    "\"\"\" run_par_pipeline(ParEngranes1, geo1_params, tension_params1, resistance_params1, \"r\")\n",
    "run_par_pipeline(ParEngranes2, geo2_params, tension_params2, resistance_params2, \"r\") \"\"\"\n"
   ]
  }
 ],
 "metadata": {
  "kernelspec": {
   "display_name": "Python 3",
   "language": "python",
   "name": "python3"
  },
  "language_info": {
   "codemirror_mode": {
    "name": "ipython",
    "version": 3
   },
   "file_extension": ".py",
   "mimetype": "text/x-python",
   "name": "python",
   "nbconvert_exporter": "python",
   "pygments_lexer": "ipython3",
   "version": "3.13.3"
  }
 },
 "nbformat": 4,
 "nbformat_minor": 5
}
