{
 "cells": [
  {
   "cell_type": "code",
   "execution_count": null,
   "id": "298a15fc",
   "metadata": {},
   "outputs": [],
   "source": [
    "from ERH.elements.Tren import TrenEngrane\n",
    "from ERH.elements.PER import ParEngranesResistencia as PER\n",
    "from ERH.elements.flux import run_par_pipeline"
   ]
  },
  {
   "cell_type": "code",
   "execution_count": null,
   "id": "da28eae9",
   "metadata": {},
   "outputs": [],
   "source": [
    "\"\"\"geometria','transmision','esfuerzos','resistencia\"\"\"\n",
    "Tren = TrenEngrane()\n",
    "\n",
    "ParEngranes0=PER()\n",
    "ParEngranes1=PER()\n",
    "\n",
    "ParEngranes = [ParEngranes0,ParEngranes1]"
   ]
  },
  {
   "cell_type": "code",
   "execution_count": null,
   "id": "563424be",
   "metadata": {},
   "outputs": [],
   "source": [
    "ParEngranes0.orientacion(m_g = 30/12, phi_n=25, psi=0.0, m=None, pi_n=6)"
   ]
  },
  {
   "cell_type": "code",
   "execution_count": null,
   "id": "ded3747c",
   "metadata": {},
   "outputs": [],
   "source": [
    "m = None\n",
    "pi_n = 6\n",
    "F = 33.8\n",
    "geo0_params = {\n",
    "    \"pi_n\": pi_n, \"m\": m, \"phi_n\": 25, \"psi\": 22,\n",
    "    \"N_pinion\": 12, \"N_engrane\": 30,\n",
    "    \"F_pinion\": F, \"F_engrane\": F,\n",
    "    \"sistema_dientes\": \"total\", \"acople\": \"externos\",\n",
    "    \"xp\": 0.0,\n",
    "}\n",
    "\n",
    "geo1_params = {\n",
    "    \"pi_n\": pi_n, \"m\": m, \"phi_n\": 25, \"psi\": 22,\n",
    "    \"N_pinion\": 18, \"N_engrane\": 36,\n",
    "    \"F_pinion\": F, \"F_engrane\": F,\n",
    "    \"sistema_dientes\": \"total\", \"acople\": \"externos\",\n",
    "    \"xp\": 0.0,\n",
    "}\n"
   ]
  },
  {
   "cell_type": "code",
   "execution_count": null,
   "id": "e7e53810",
   "metadata": {},
   "outputs": [],
   "source": [
    "run_par_pipeline(ParEngranes0, geo0_params, until=\"g\")\n",
    "run_par_pipeline(ParEngranes1, geo1_params, until=\"g\")"
   ]
  },
  {
   "cell_type": "code",
   "execution_count": null,
   "id": "158aee62",
   "metadata": {},
   "outputs": [],
   "source": [
    "trans_params = {\n",
    "    \"start_id\": 1, \"where\": \"pinion\",\n",
    "    \"H\": 350, \"H_units\": \"si\",\n",
    "    \"Omega\": None, \"Omega_units\": \"rpm\",\n",
    "    \"T\": 5.4, \"T_units\": \"si\",\n",
    "}"
   ]
  },
  {
   "cell_type": "code",
   "execution_count": null,
   "id": "f157fcc2",
   "metadata": {},
   "outputs": [],
   "source": [
    "for par in ParEngranes:\n",
    "    Tren.add_pair(par)\n",
    "\n",
    "Tren.connect(0,1,\"engrane\",\"pinion\")\n",
    "Tren.solve_transmision(**trans_params)\n",
    "Tren.resumen_transmision()"
   ]
  },
  {
   "cell_type": "code",
   "execution_count": null,
   "id": "788c385f",
   "metadata": {},
   "outputs": [],
   "source": [
    "# Constantes generales\n",
    "C_F = 1     # PAG 31: factor de acabado superficial\n",
    "K_A = 1     # PAG 32 TABLA 17: factor de aplicación\n",
    "K_B = 1     # PAG 32 TABLA 17: factor de tamaño\n",
    "K_M = 1.6     # PAG 32 TABLA 18: factor de montaje\n",
    "K_S = 1     # PAG 33 TABLA 20: factor de tamaño\n",
    "Q_v = 6    # calidad del engrane  /6 peor caso posible\n",
    "C_p = 191   # coeficiente de elasticidad [√MPa]\n",
    "I   = None  # índice de geometría de contacto (se calcula)\n",
    "\n",
    "tension_params0 = {\n",
    "    \"K_A\": K_A, \"K_M\": K_M, \"K_S\": K_S, \"K_B\": K_B, \"K_V\": None,\n",
    "    \"K_I_pin\": 1.00, \"K_I_eng\": 1.00,                             \n",
    "    \"Jp_pin\": 0.21, \"Jmod_pin\": 1, \"Jp_eng\": 0.32, \"Jmod_eng\": 1, # PAG 35 GRAFICO 27 PARA RECTO 28 HELI / # 1 SI ES RECTO PAG 36 GRAFICO 29 \n",
    "    \"C_p\": C_p, \"C_F\": C_F, \"Q_v\": Q_v,\n",
    "    \"I\": I, \"Jp\": None, \"Jg\": None,\n",
    "}\n",
    "\n",
    "tension_params1 = {\n",
    "    \"K_A\": K_A, \"K_M\": K_M, \"K_S\": K_S, \"K_B\": K_B, \"K_V\": None,\n",
    "    \"K_I_pin\": 1.00, \"K_I_eng\": 1.00,\n",
    "    \"Jp_pin\": 0.32, \"Jmod_pin\": 1, \"Jp_eng\": 0.32, \"Jmod_eng\": 1, # PAG 35 GRAFICO 27 PARA RECTO 28 HELI / # 1 SI ES RECTO PAG 36 GRAFICO 29 \n",
    "    \"C_p\": C_p, \"C_F\": C_F, \"Q_v\": Q_v,\n",
    "    \"I\": I, \"Jp\": None, \"Jg\": None,\n",
    "}\n",
    "\n"
   ]
  },
  {
   "cell_type": "code",
   "execution_count": null,
   "id": "f08eba96",
   "metadata": {},
   "outputs": [],
   "source": [
    "for par in ParEngranes:\n",
    "    par.print_ciclos(24,365,10)"
   ]
  },
  {
   "cell_type": "code",
   "execution_count": null,
   "id": "1357ec6c",
   "metadata": {},
   "outputs": [],
   "source": [
    "Temp, R = 20, 0.99\n",
    "\n",
    "resistance_params0 = {\n",
    "    \"K_L_p\": 1, \"C_L_p\": 1, \"HB_p\": 139,   # Piñón → PAG 27 D.6, TABLA 10, PAG 30 Tabla 12\n",
    "    \"K_L_g\": 1, \"C_L_g\": 1, \"HB_g\": 139,   # Engrane → PAG 27 D.6, TABLA 10, PAG 30 Tabla 12\n",
    "    \"temperatura\": Temp, \"R\": R,           # Temp (°C) / Confiabilidad objetivo (0–1)\n",
    "    \"caso_engrane\": \"masa\", \"Rq\": 0.8,     # Caso (masa/superficie) / Rugosidad media (µm)\n",
    "    \"pSF_p\": 137.56, \"pSFC_p\": 491,           # Piñón permisible → flexión/contacto (PAG 29–30)\n",
    "    \"pSF_g\": 137.56, \"pSFC_g\": 491,           # Engrane permisible → flexión/contacto (PAG 29–30)\n",
    "    \"K_T\": None, \"K_R\": None,              # Factor temperatura / confiabilidad (si aplica)\n",
    "    \"C_H_p\": None, \"C_H_g\": None,          # Factor dureza (piñón/engranaje) (opcional, si se conoce)\n",
    "}\n",
    "\n",
    "resistance_params1 = {\n",
    "    \"K_L_p\": 1, \"C_L_p\": 1, \"HB_p\": 139,   # Piñón → PAG 27 D.6, TABLA 10, PAG 30 Tabla 12\n",
    "    \"K_L_g\": 1, \"C_L_g\": 1, \"HB_g\": 139,   # Engrane → PAG 27 D.6, TABLA 10, PAG 30 Tabla 12\n",
    "    \"temperatura\": Temp, \"R\": R,           # Temp (°C) / Confiabilidad objetivo (0–1)\n",
    "    \"caso_engrane\": \"masa\", \"Rq\": 0.8,     # Caso (masa/superficie) / Rugosidad media (µm)\n",
    "    \"pSF_p\": 137.56, \"pSFC_p\": 491,           # Piñón permisible → flexión/contacto (PAG 29–30)\n",
    "    \"pSF_g\": 137.56, \"pSFC_g\": 491,           # Engrane permisible → flexión/contacto (PAG 29–30)\n",
    "    \"K_T\": None, \"K_R\": None,              # Factor temperatura / confiabilidad (si aplica)\n",
    "    \"C_H_p\": None, \"C_H_g\": None,          # Factor dureza (piñón/engranaje) (opcional, si se conoce)\n",
    "}\n"
   ]
  },
  {
   "cell_type": "code",
   "execution_count": null,
   "id": "aee53665",
   "metadata": {},
   "outputs": [],
   "source": [
    "run_par_pipeline(ParEngranes0, geo0_params, tension_params0, resistance_params0, \"r\")\n",
    "run_par_pipeline(ParEngranes1, geo1_params, tension_params1, resistance_params1, \"r\")\n"
   ]
  },
  {
   "cell_type": "code",
   "execution_count": null,
   "id": "9804cf91",
   "metadata": {},
   "outputs": [],
   "source": [
    "was = 130\n",
    "piplos = 10e8\n",
    "print(\"K_L caso comercial sobre 10e7 ciclos \",1.3558*piplos**(-0.0178))\n",
    "print(\"K_L caso critico sobre 10e7 ciclos \",1.6831*piplos**(-0.0323))\n",
    "print(\"C_L caso comercial sobre 10e7 ciclos \", 1.4488*piplos**(-0.023))\n",
    "print(\"C_L caso critico sobre 10e7 ciclos \", 2.466*piplos**(-0.056))\n",
    "print(\"pSF grado 1 \", -2+1.15*was-0.00105*was**2)\n",
    "print(\"pSF grado 2 \", 43+1.2*was-0.00087*was**2)\n",
    "print(\"pSFC grado 1 \",179+2.25*was)\n",
    "print(\"pSFC grado 2 \",186+2.52*was)"
   ]
  },
  {
   "cell_type": "code",
   "execution_count": 4,
   "id": "cca2a55b",
   "metadata": {},
   "outputs": [
    {
     "name": "stdout",
     "output_type": "stream",
     "text": [
      "187.02702577928443\n"
     ]
    }
   ],
   "source": [
    "import numpy as np\n",
    "vp = 0.3\n",
    "vg = 0.3\n",
    "Ep = 200*1000\n",
    "Eg = 200*1000\n",
    "dds = (1 - vp**2)/Ep + (1 - vg**2)/Eg\n",
    "Cwa = np.sqrt(1 / (np.pi * dds))\n",
    "print(Cwa)"
   ]
  }
 ],
 "metadata": {
  "kernelspec": {
   "display_name": "Python 3",
   "language": "python",
   "name": "python3"
  },
  "language_info": {
   "codemirror_mode": {
    "name": "ipython",
    "version": 3
   },
   "file_extension": ".py",
   "mimetype": "text/x-python",
   "name": "python",
   "nbconvert_exporter": "python",
   "pygments_lexer": "ipython3",
   "version": "3.13.3"
  }
 },
 "nbformat": 4,
 "nbformat_minor": 5
}
