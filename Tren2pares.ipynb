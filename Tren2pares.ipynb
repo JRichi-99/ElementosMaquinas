{
 "cells": [
  {
   "cell_type": "code",
   "execution_count": 1,
   "id": "298a15fc",
   "metadata": {},
   "outputs": [],
   "source": [
    "from ERH.elements.Tren import TrenEngrane\n",
    "from ERH.elements.PER import ParEngranesResistencia as PER\n",
    "from ERH.elements.flux import run_par_pipeline"
   ]
  },
  {
   "cell_type": "code",
   "execution_count": 2,
   "id": "da28eae9",
   "metadata": {},
   "outputs": [],
   "source": [
    "\"\"\"geometria','transmision','esfuerzos','resistencia\"\"\"\n",
    "Tren = TrenEngrane()\n",
    "\n",
    "ParEngranes0=PER()\n",
    "ParEngranes1=PER()\n",
    "\n",
    "ParEngranes = [ParEngranes0,ParEngranes1]"
   ]
  },
  {
   "cell_type": "code",
   "execution_count": 3,
   "id": "563424be",
   "metadata": {},
   "outputs": [
    {
     "name": "stdout",
     "output_type": "stream",
     "text": [
      "=== Dientes desde transmisión ===\n",
      "m (módulo normal): 4.23 mm\n",
      "Ancho de cara recomendable mayor a 33.86666666666667 y menor a 67.73333333333333\n",
      "φ_n (presion): 25.00°\n",
      "ψ (hélice): 0.00°\n",
      "N mínimo piñón (recto, None): 7\n",
      "Relación m_g = Ng/Np: 2.500\n",
      "Número de dientes requerido en el engrane (Ng): 18\n"
     ]
    }
   ],
   "source": [
    "ParEngranes0.orientacion(m_g = 30/12, phi_n=25, psi=0.0, m=None, pi_n=6)"
   ]
  },
  {
   "cell_type": "code",
   "execution_count": 4,
   "id": "ded3747c",
   "metadata": {},
   "outputs": [],
   "source": [
    "m = None\n",
    "pi_n = 6\n",
    "F = 33.8\n",
    "geo0_params = {\n",
    "    \"pi_n\": pi_n, \"m\": m, \"phi_n\": 25, \"psi\": 22,\n",
    "    \"N_pinion\": 12, \"N_engrane\": 30,\n",
    "    \"F_pinion\": F, \"F_engrane\": F,\n",
    "    \"sistema_dientes\": \"total\", \"acople\": \"externos\",\n",
    "    \"xp\": 0.0,\n",
    "}\n",
    "\n",
    "geo1_params = {\n",
    "    \"pi_n\": pi_n, \"m\": m, \"phi_n\": 25, \"psi\": 22,\n",
    "    \"N_pinion\": 18, \"N_engrane\": 36,\n",
    "    \"F_pinion\": F, \"F_engrane\": F,\n",
    "    \"sistema_dientes\": \"total\", \"acople\": \"externos\",\n",
    "    \"xp\": 0.0,\n",
    "}\n"
   ]
  },
  {
   "cell_type": "code",
   "execution_count": 5,
   "id": "e7e53810",
   "metadata": {},
   "outputs": [],
   "source": [
    "run_par_pipeline(ParEngranes0, geo0_params, until=\"g\")\n",
    "run_par_pipeline(ParEngranes1, geo1_params, until=\"g\")"
   ]
  },
  {
   "cell_type": "code",
   "execution_count": 6,
   "id": "158aee62",
   "metadata": {},
   "outputs": [],
   "source": [
    "trans_params = {\n",
    "    \"start_id\": 1, \"where\": \"engrane\",\n",
    "    \"H\": 350, \"H_units\": \"si\",\n",
    "    \"Omega\": None, \"Omega_units\": \"rpm\",\n",
    "    \"T\": 10.8, \"T_units\": \"si\",\n",
    "}"
   ]
  },
  {
   "cell_type": "code",
   "execution_count": 7,
   "id": "f157fcc2",
   "metadata": {},
   "outputs": [],
   "source": [
    "for par in ParEngranes:\n",
    "    Tren.add_pair(par)\n",
    "\n",
    "Tren.connect(0,1,\"engrane\",\"pinion\")\n",
    "Tren.solve_transmision(**trans_params)\n",
    "Tren.resumen_transmision()"
   ]
  },
  {
   "cell_type": "code",
   "execution_count": 8,
   "id": "788c385f",
   "metadata": {},
   "outputs": [],
   "source": [
    "# Constantes generales\n",
    "C_F = 1     # PAG 31: factor de acabado superficial\n",
    "K_A = 1     # PAG 32 TABLA 17: factor de aplicación\n",
    "K_B = 1     # PAG 32 TABLA 17: factor de tamaño\n",
    "K_M = 1.6     # PAG 32 TABLA 18: factor de montaje\n",
    "K_S = 1     # PAG 33 TABLA 20: factor de tamaño\n",
    "Q_v = 6    # calidad del engrane  /6 peor caso posible\n",
    "C_p = 191   # coeficiente de elasticidad [√MPa]\n",
    "I   = None  # índice de geometría de contacto (se calcula)\n",
    "\n",
    "tension_params0 = {\n",
    "    \"K_A\": K_A, \"K_M\": K_M, \"K_S\": K_S, \"K_B\": K_B, \"K_V\": None,\n",
    "    \"K_I_pin\": 1.00, \"K_I_eng\": 1.00,                             \n",
    "    \"Jp_pin\": 0.21, \"Jmod_pin\": 1, \"Jp_eng\": 0.32, \"Jmod_eng\": 1, # PAG 35 GRAFICO 27 PARA RECTO 28 HELI / # 1 SI ES RECTO PAG 36 GRAFICO 29 \n",
    "    \"C_p\": C_p, \"C_F\": C_F, \"Q_v\": Q_v,\n",
    "    \"I\": I, \"Jp\": None, \"Jg\": None,\n",
    "}\n",
    "\n",
    "tension_params1 = {\n",
    "    \"K_A\": K_A, \"K_M\": K_M, \"K_S\": K_S, \"K_B\": K_B, \"K_V\": None,\n",
    "    \"K_I_pin\": 1.00, \"K_I_eng\": 1.00,\n",
    "    \"Jp_pin\": 0.32, \"Jmod_pin\": 1, \"Jp_eng\": 0.32, \"Jmod_eng\": 1, # PAG 35 GRAFICO 27 PARA RECTO 28 HELI / # 1 SI ES RECTO PAG 36 GRAFICO 29 \n",
    "    \"C_p\": C_p, \"C_F\": C_F, \"Q_v\": Q_v,\n",
    "    \"I\": I, \"Jp\": None, \"Jg\": None,\n",
    "}\n",
    "\n"
   ]
  },
  {
   "cell_type": "code",
   "execution_count": 9,
   "id": "f08eba96",
   "metadata": {},
   "outputs": [
    {
     "name": "stdout",
     "output_type": "stream",
     "text": [
      "\n",
      "Par engrane 0\n",
      "Ciclos piñón  : 8.133e+09\n",
      "Ciclos engrane: 3.253e+09\n",
      "\n",
      "\n",
      "Par engrane 1\n",
      "Ciclos piñón  : 3.253e+09\n",
      "Ciclos engrane: 1.627e+09\n",
      "\n"
     ]
    }
   ],
   "source": [
    "for par in ParEngranes:\n",
    "    par.print_ciclos(24,365,10)"
   ]
  },
  {
   "cell_type": "code",
   "execution_count": 11,
   "id": "1357ec6c",
   "metadata": {},
   "outputs": [],
   "source": [
    "Temp, R = 20, 0.99\n",
    "\n",
    "resistance_params0 = {\n",
    "    \"K_L_p\": 1, \"C_L_p\": 1, \"HB_p\": 139,   # Piñón → PAG 27 D.6, TABLA 10, PAG 30 Tabla 12\n",
    "    \"K_L_g\": 1, \"C_L_g\": 1, \"HB_g\": 139,   # Engrane → PAG 27 D.6, TABLA 10, PAG 30 Tabla 12\n",
    "    \"temperatura\": Temp, \"R\": R,           # Temp (°C) / Confiabilidad objetivo (0–1)\n",
    "    \"caso_engrane\": \"masa\", \"Rq\": 0.8,     # Caso (masa/superficie) / Rugosidad media (µm)\n",
    "    \"pSF_p\": 137.56, \"pSFC_p\": 491,           # Piñón permisible → flexión/contacto (PAG 29–30)\n",
    "    \"pSF_g\": 137.56, \"pSFC_g\": 491,           # Engrane permisible → flexión/contacto (PAG 29–30)\n",
    "    \"K_T\": None, \"K_R\": None,              # Factor temperatura / confiabilidad (si aplica)\n",
    "    \"C_H_p\": None, \"C_H_g\": None,          # Factor dureza (piñón/engranaje) (opcional, si se conoce)\n",
    "}\n",
    "\n",
    "resistance_params1 = {\n",
    "    \"K_L_p\": 1, \"C_L_p\": 1, \"HB_p\": 139,   # Piñón → PAG 27 D.6, TABLA 10, PAG 30 Tabla 12\n",
    "    \"K_L_g\": 1, \"C_L_g\": 1, \"HB_g\": 139,   # Engrane → PAG 27 D.6, TABLA 10, PAG 30 Tabla 12\n",
    "    \"temperatura\": Temp, \"R\": R,           # Temp (°C) / Confiabilidad objetivo (0–1)\n",
    "    \"caso_engrane\": \"masa\", \"Rq\": 0.8,     # Caso (masa/superficie) / Rugosidad media (µm)\n",
    "    \"pSF_p\": 137.56, \"pSFC_p\": 491,           # Piñón permisible → flexión/contacto (PAG 29–30)\n",
    "    \"pSF_g\": 137.56, \"pSFC_g\": 491,           # Engrane permisible → flexión/contacto (PAG 29–30)\n",
    "    \"K_T\": None, \"K_R\": None,              # Factor temperatura / confiabilidad (si aplica)\n",
    "    \"C_H_p\": None, \"C_H_g\": None,          # Factor dureza (piñón/engranaje) (opcional, si se conoce)\n",
    "}\n"
   ]
  },
  {
   "cell_type": "code",
   "execution_count": 12,
   "id": "aee53665",
   "metadata": {},
   "outputs": [],
   "source": [
    "run_par_pipeline(ParEngranes0, geo0_params, tension_params0, resistance_params0, \"r\")\n",
    "run_par_pipeline(ParEngranes1, geo1_params, tension_params1, resistance_params1, \"r\")\n"
   ]
  },
  {
   "cell_type": "code",
   "execution_count": null,
   "id": "9804cf91",
   "metadata": {},
   "outputs": [],
   "source": [
    "was = 130\n",
    "print(\"K_L caso comercial sobre 10e7 ciclos \",1.3558*was**(-0.0178))\n",
    "print(\"K_L caso critico sobre 10e7 ciclos \",1.6831*was**(-0.0323))\n",
    "print(\"C_L caso comercial sobre 10e7 ciclos \", 1.4488*was**(-0.023))\n",
    "print(\"C_L caso critico sobre 10e7 ciclos \", 2.466*was**(-0.056))"
   ]
  }
 ],
 "metadata": {
  "kernelspec": {
   "display_name": "Python 3",
   "language": "python",
   "name": "python3"
  },
  "language_info": {
   "codemirror_mode": {
    "name": "ipython",
    "version": 3
   },
   "file_extension": ".py",
   "mimetype": "text/x-python",
   "name": "python",
   "nbconvert_exporter": "python",
   "pygments_lexer": "ipython3",
   "version": "3.13.3"
  }
 },
 "nbformat": 4,
 "nbformat_minor": 5
}
