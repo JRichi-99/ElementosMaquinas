{
 "cells": [
  {
   "cell_type": "code",
   "execution_count": 1,
   "id": "3abccbd5",
   "metadata": {},
   "outputs": [],
   "source": [
    "import numpy as np"
   ]
  },
  {
   "cell_type": "code",
   "execution_count": 2,
   "id": "0b99ad0d",
   "metadata": {},
   "outputs": [],
   "source": [
    "psi = np.deg2rad(22)\n",
    "phi_n= np.deg2rad(20)\n"
   ]
  },
  {
   "cell_type": "code",
   "execution_count": 5,
   "id": "07370348",
   "metadata": {},
   "outputs": [],
   "source": [
    "mx = 4/np.sin(psi)\n",
    "p_x = mx*np.pi"
   ]
  },
  {
   "cell_type": "code",
   "execution_count": null,
   "id": "4c680a81",
   "metadata": {},
   "outputs": [],
   "source": [
    "\n",
    "mf = 4*16/p_x\n",
    "mf"
   ]
  }
 ],
 "metadata": {
  "kernelspec": {
   "display_name": "Python 3",
   "language": "python",
   "name": "python3"
  },
  "language_info": {
   "codemirror_mode": {
    "name": "ipython",
    "version": 3
   },
   "file_extension": ".py",
   "mimetype": "text/x-python",
   "name": "python",
   "nbconvert_exporter": "python",
   "pygments_lexer": "ipython3",
   "version": "3.13.3"
  }
 },
 "nbformat": 4,
 "nbformat_minor": 5
}
