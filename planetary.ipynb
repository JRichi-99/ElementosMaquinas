{
 "cells": [
  {
   "cell_type": "code",
   "execution_count": null,
   "id": "749963e9",
   "metadata": {},
   "outputs": [],
   "source": [
    "from ERH.elements.Planetary import Planetary\n",
    "from ERH.eq.conversion import *\n",
    "\n",
    "EngranePlanetario=Planetary()"
   ]
  },
  {
   "cell_type": "code",
   "execution_count": null,
   "id": "a0533521",
   "metadata": {},
   "outputs": [],
   "source": [
    "#(n_c - n_pp) / (n_pp - n_s) = N_s / N_c       #Relacion de velocidades\n",
    "#(n_p - n_pp) / (n_pp - n_s) = N_s / N_p\n",
    "#N_c = N_s + 2*N_p"
   ]
  },
  {
   "cell_type": "code",
   "execution_count": null,
   "id": "86139568",
   "metadata": {},
   "outputs": [],
   "source": [
    "EngranePlanetario.create_planetary_sistem(m=1,phi_n=20,F=5,N_c=96,N_s=24,N_p=36,ctd_planetas=3)"
   ]
  },
  {
   "cell_type": "code",
   "execution_count": null,
   "id": "b29d2fd4",
   "metadata": {},
   "outputs": [],
   "source": [
    "EngranePlanetario.get_np_from(npp=200,ns=1000)"
   ]
  },
  {
   "cell_type": "code",
   "execution_count": null,
   "id": "f628d130",
   "metadata": {},
   "outputs": [],
   "source": [
    "H = 150\n",
    "EngranePlanetario.set_load_corona(w=rpm_a_rad_s(0),h=H,t=None)\n",
    "EngranePlanetario.set_load_planeta(w=rpm_a_rad_s(333.333),h=H,t=None)\n",
    "EngranePlanetario.set_load_sol(w=rpm_a_rad_s(1000),h=H,t=None)"
   ]
  },
  {
   "cell_type": "code",
   "execution_count": null,
   "id": "9a5ea09b",
   "metadata": {},
   "outputs": [],
   "source": [
    "EngranePlanetario.set_Wt()\n",
    "EngranePlanetario.set_ciclos(horas=24,dias=365,years=1)"
   ]
  },
  {
   "cell_type": "code",
   "execution_count": null,
   "id": "afb7d31a",
   "metadata": {},
   "outputs": [],
   "source": [
    "K_A = 1        # PAG 32 TABLA 17: factor de aplicación\n",
    "K_B = 1        # PAG 32 (abajo) TABLA 17: factor de tamaño\n",
    "K_M = 1.6      # PAG 32 TABLA 18: factor de montaje\n",
    "K_S = 1        # PAG 33 TABLA 20: factor de seguridad\n",
    "C_F = 1        # PAG 31: 1 normal; >1 si superficie áspera\n",
    "Q_v = 10       # Calidad del engrane\n",
    "C_p = 229.06   # PAG 31 TABLA 15: coef. elasticidad [√MPa]\n",
    "I   = 0.07     # Índice geométrico de contacto\n",
    "\n",
    "tension_sol_planeta = {\n",
    "    \"K_A\": K_A, \"K_M\": K_M, \"K_S\": K_S, \"K_B\": K_B, \"K_V\": None,   # Factores AGMA (páginas/tablas)\n",
    "    \"K_I_pin\": 1.00, \"K_I_eng\": 1.42,                              # Factor de ubicación piñón/engranaje\n",
    "    \"Jp_pin\": 0.35, \"Jmod_pin\": 1,                                 # Geometría piñón (gráficos 27–29)\n",
    "    \"Jp_eng\": 0.38, \"Jmod_eng\": 1,                                 # Geometría engrane (gráficos 27–29)\n",
    "    \"C_p\": C_p, \"C_F\": C_F, \"Q_v\": Q_v,                            # Contacto, acabado, calidad\n",
    "    \"I\": I, \"Jp\": None, \"Jg\": None,                                # Índice geométrico y opcionales\n",
    "}\n",
    "\n",
    "\n",
    "tension_planeta_corona = {\n",
    "    \"K_A\": K_A, \"K_M\": K_M, \"K_S\": K_S, \"K_B\": K_B, \"K_V\": None,\n",
    "    \"K_I_pin\": 1.42, \"K_I_eng\": 1.00,\n",
    "    \"Jp_pin\": tension_sol_planeta.get(\"Jp_eng\"),\n",
    "    \"Jmod_pin\": tension_sol_planeta.get(\"Jmod_eng\"),\n",
    "    \"Jp_eng\": 0.44, \"Jmod_eng\": 1,\n",
    "    \"C_p\": C_p, \"C_F\": C_F, \"Q_v\": Q_v,\n",
    "    \"I\": I, \"Jp\": None, \"Jg\": None,\n",
    "}\n"
   ]
  },
  {
   "cell_type": "code",
   "execution_count": null,
   "id": "1504b196",
   "metadata": {},
   "outputs": [],
   "source": [
    "EngranePlanetario.calc_esfuerzos(tension_sol_planeta, tension_planeta_corona)"
   ]
  },
  {
   "cell_type": "code",
   "execution_count": null,
   "id": "3a20b9cf",
   "metadata": {},
   "outputs": [],
   "source": [
    "Temp = 20      # °C\n",
    "R    = 0.99    # Confiabilidad objetivo (0–1)\n",
    "\n",
    "resistance_sol_planeta = {\n",
    "    \"K_L_p\": 0.85, \"C_L_p\": 0.75, \"HB_p\": 235,       # Piñón\n",
    "    \"K_L_g\": 0.91, \"C_L_g\": 0.85, \"HB_g\": 235,       # Engrane\n",
    "    \"temperatura\": Temp, \"R\": R,                     # Servicio (°C, confiabilidad)\n",
    "    \"caso_engrane\": \"masa\", \"Rq\": 0.8,               # Caso: masa/superficie, rugosidad (µm)\n",
    "    \"pSF_g\": 210.26, \"pSFC_g\": 707.75,               # Engrane permisible (flexión/contacto)\n",
    "    \"pSF_p\": 210.26, \"pSFC_p\": 707.75,               # Piñón permisible (flexión/contacto)\n",
    "    \"K_T\": None, \"K_R\": None, \"C_H_p\": None, \"C_H_g\": None,   # Factores opcionales\n",
    "}\n",
    "\n",
    "resistance_planeta_corona = {\n",
    "    \"K_L_p\": resistance_sol_planeta.get(\"K_L_g\"),\n",
    "    \"C_L_p\": resistance_sol_planeta.get(\"C_L_g\"),\n",
    "    \"HB_p\":  resistance_sol_planeta.get(\"HB_g\"),\n",
    "    \"K_L_g\": 1, \"C_L_g\": 1, \"HB_g\": 300,\n",
    "    \"temperatura\": Temp, \"R\": R,\n",
    "    \"caso_engrane\": \"masa\", \"Rq\": 0.8,\n",
    "    \"pSF_g\": 324, \"pSFC_g\": 942,\n",
    "    \"pSF_p\": resistance_sol_planeta.get(\"pSF_g\"),\n",
    "    \"pSFC_p\": resistance_sol_planeta.get(\"pSFC_g\"),\n",
    "    \"K_T\": None, \"K_R\": None, \"C_H_p\": None, \"C_H_g\": None,\n",
    "}\n"
   ]
  },
  {
   "cell_type": "code",
   "execution_count": null,
   "id": "63fe0033",
   "metadata": {},
   "outputs": [],
   "source": [
    "EngranePlanetario.calc_resistencia(resistance_sol_planeta,resistance_planeta_corona)"
   ]
  }
 ],
 "metadata": {
  "language_info": {
   "name": "python"
  }
 },
 "nbformat": 4,
 "nbformat_minor": 5
}
